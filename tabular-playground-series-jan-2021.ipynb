{
 "cells": [
  {
   "cell_type": "markdown",
   "metadata": {},
   "source": [
    "# Tabular Playground Series - Jan 2021"
   ]
  },
  {
   "cell_type": "markdown",
   "metadata": {},
   "source": [
    "## Proje [Linki](https://www.kaggle.com/competitions/tabular-playground-series-jan-2021/overview)"
   ]
  },
  {
   "cell_type": "code",
   "execution_count": 336,
   "metadata": {
    "_cell_guid": "b1076dfc-b9ad-4769-8c92-a6c4dae69d19",
    "_uuid": "8f2839f25d086af736a60e9eeb907d3b93b6e0e5",
    "execution": {
     "iopub.execute_input": "2023-04-16T02:05:56.771779Z",
     "iopub.status.busy": "2023-04-16T02:05:56.771185Z",
     "iopub.status.idle": "2023-04-16T02:05:56.782479Z",
     "shell.execute_reply": "2023-04-16T02:05:56.781041Z",
     "shell.execute_reply.started": "2023-04-16T02:05:56.771727Z"
    }
   },
   "outputs": [
    {
     "name": "stdout",
     "output_type": "stream",
     "text": [
      "/kaggle/input/tabular-playground-series-jan-2021/sample_submission.csv\n",
      "/kaggle/input/tabular-playground-series-jan-2021/train.csv\n",
      "/kaggle/input/tabular-playground-series-jan-2021/test.csv\n"
     ]
    }
   ],
   "source": [
    "# This Python 3 environment comes with many helpful analytics libraries installed\n",
    "# It is defined by the kaggle/python Docker image: https://github.com/kaggle/docker-python\n",
    "# For example, here's several helpful packages to load\n",
    "\n",
    "import numpy as np # linear algebra\n",
    "import pandas as pd # data processing, CSV file I/O (e.g. pd.read_csv)\n",
    "\n",
    "# Input data files are available in the read-only \"../input/\" directory\n",
    "# For example, running this (by clicking run or pressing Shift+Enter) will list all files under the input directory\n",
    "\n",
    "import os\n",
    "for dirname, _, filenames in os.walk('/kaggle/input'):\n",
    "    for filename in filenames:\n",
    "        print(os.path.join(dirname, filename))\n",
    "\n",
    "# You can write up to 20GB to the current directory (/kaggle/working/) that gets preserved as output when you create a version using \"Save & Run All\" \n",
    "# You can also write temporary files to /kaggle/temp/, but they won't be saved outside of the current session"
   ]
  },
  {
   "cell_type": "code",
   "execution_count": 337,
   "metadata": {
    "execution": {
     "iopub.execute_input": "2023-04-16T02:05:56.803719Z",
     "iopub.status.busy": "2023-04-16T02:05:56.803162Z",
     "iopub.status.idle": "2023-04-16T02:05:56.854926Z",
     "shell.execute_reply": "2023-04-16T02:05:56.853440Z",
     "shell.execute_reply.started": "2023-04-16T02:05:56.803667Z"
    }
   },
   "outputs": [
    {
     "data": {
      "text/html": [
       "<div>\n",
       "<style scoped>\n",
       "    .dataframe tbody tr th:only-of-type {\n",
       "        vertical-align: middle;\n",
       "    }\n",
       "\n",
       "    .dataframe tbody tr th {\n",
       "        vertical-align: top;\n",
       "    }\n",
       "\n",
       "    .dataframe thead th {\n",
       "        text-align: right;\n",
       "    }\n",
       "</style>\n",
       "<table border=\"1\" class=\"dataframe\">\n",
       "  <thead>\n",
       "    <tr style=\"text-align: right;\">\n",
       "      <th></th>\n",
       "      <th>id</th>\n",
       "      <th>target</th>\n",
       "    </tr>\n",
       "  </thead>\n",
       "  <tbody>\n",
       "    <tr>\n",
       "      <th>0</th>\n",
       "      <td>0</td>\n",
       "      <td>0.5</td>\n",
       "    </tr>\n",
       "    <tr>\n",
       "      <th>1</th>\n",
       "      <td>2</td>\n",
       "      <td>0.5</td>\n",
       "    </tr>\n",
       "    <tr>\n",
       "      <th>2</th>\n",
       "      <td>6</td>\n",
       "      <td>0.5</td>\n",
       "    </tr>\n",
       "    <tr>\n",
       "      <th>3</th>\n",
       "      <td>7</td>\n",
       "      <td>0.5</td>\n",
       "    </tr>\n",
       "    <tr>\n",
       "      <th>4</th>\n",
       "      <td>10</td>\n",
       "      <td>0.5</td>\n",
       "    </tr>\n",
       "    <tr>\n",
       "      <th>...</th>\n",
       "      <td>...</td>\n",
       "      <td>...</td>\n",
       "    </tr>\n",
       "    <tr>\n",
       "      <th>199995</th>\n",
       "      <td>499984</td>\n",
       "      <td>0.5</td>\n",
       "    </tr>\n",
       "    <tr>\n",
       "      <th>199996</th>\n",
       "      <td>499985</td>\n",
       "      <td>0.5</td>\n",
       "    </tr>\n",
       "    <tr>\n",
       "      <th>199997</th>\n",
       "      <td>499987</td>\n",
       "      <td>0.5</td>\n",
       "    </tr>\n",
       "    <tr>\n",
       "      <th>199998</th>\n",
       "      <td>499988</td>\n",
       "      <td>0.5</td>\n",
       "    </tr>\n",
       "    <tr>\n",
       "      <th>199999</th>\n",
       "      <td>499990</td>\n",
       "      <td>0.5</td>\n",
       "    </tr>\n",
       "  </tbody>\n",
       "</table>\n",
       "<p>200000 rows × 2 columns</p>\n",
       "</div>"
      ],
      "text/plain": [
       "            id  target\n",
       "0            0     0.5\n",
       "1            2     0.5\n",
       "2            6     0.5\n",
       "3            7     0.5\n",
       "4           10     0.5\n",
       "...        ...     ...\n",
       "199995  499984     0.5\n",
       "199996  499985     0.5\n",
       "199997  499987     0.5\n",
       "199998  499988     0.5\n",
       "199999  499990     0.5\n",
       "\n",
       "[200000 rows x 2 columns]"
      ]
     },
     "execution_count": 337,
     "metadata": {},
     "output_type": "execute_result"
    }
   ],
   "source": [
    "pd.read_csv(\"/kaggle/input/tabular-playground-series-jan-2021/sample_submission.csv\")"
   ]
  },
  {
   "cell_type": "code",
   "execution_count": 338,
   "metadata": {
    "execution": {
     "iopub.execute_input": "2023-04-16T02:05:56.859552Z",
     "iopub.status.busy": "2023-04-16T02:05:56.859173Z",
     "iopub.status.idle": "2023-04-16T02:05:58.319637Z",
     "shell.execute_reply": "2023-04-16T02:05:58.318570Z",
     "shell.execute_reply.started": "2023-04-16T02:05:56.859515Z"
    }
   },
   "outputs": [
    {
     "data": {
      "text/html": [
       "<div>\n",
       "<style scoped>\n",
       "    .dataframe tbody tr th:only-of-type {\n",
       "        vertical-align: middle;\n",
       "    }\n",
       "\n",
       "    .dataframe tbody tr th {\n",
       "        vertical-align: top;\n",
       "    }\n",
       "\n",
       "    .dataframe thead th {\n",
       "        text-align: right;\n",
       "    }\n",
       "</style>\n",
       "<table border=\"1\" class=\"dataframe\">\n",
       "  <thead>\n",
       "    <tr style=\"text-align: right;\">\n",
       "      <th></th>\n",
       "      <th>id</th>\n",
       "      <th>cont1</th>\n",
       "      <th>cont2</th>\n",
       "      <th>cont3</th>\n",
       "      <th>cont4</th>\n",
       "      <th>cont5</th>\n",
       "      <th>cont6</th>\n",
       "      <th>cont7</th>\n",
       "      <th>cont8</th>\n",
       "      <th>cont9</th>\n",
       "      <th>cont10</th>\n",
       "      <th>cont11</th>\n",
       "      <th>cont12</th>\n",
       "      <th>cont13</th>\n",
       "      <th>cont14</th>\n",
       "      <th>target</th>\n",
       "    </tr>\n",
       "  </thead>\n",
       "  <tbody>\n",
       "    <tr>\n",
       "      <th>0</th>\n",
       "      <td>1</td>\n",
       "      <td>0.670390</td>\n",
       "      <td>0.811300</td>\n",
       "      <td>0.643968</td>\n",
       "      <td>0.291791</td>\n",
       "      <td>0.284117</td>\n",
       "      <td>0.855953</td>\n",
       "      <td>0.890700</td>\n",
       "      <td>0.285542</td>\n",
       "      <td>0.558245</td>\n",
       "      <td>0.779418</td>\n",
       "      <td>0.921832</td>\n",
       "      <td>0.866772</td>\n",
       "      <td>0.878733</td>\n",
       "      <td>0.305411</td>\n",
       "      <td>7.243043</td>\n",
       "    </tr>\n",
       "    <tr>\n",
       "      <th>1</th>\n",
       "      <td>3</td>\n",
       "      <td>0.388053</td>\n",
       "      <td>0.621104</td>\n",
       "      <td>0.686102</td>\n",
       "      <td>0.501149</td>\n",
       "      <td>0.643790</td>\n",
       "      <td>0.449805</td>\n",
       "      <td>0.510824</td>\n",
       "      <td>0.580748</td>\n",
       "      <td>0.418335</td>\n",
       "      <td>0.432632</td>\n",
       "      <td>0.439872</td>\n",
       "      <td>0.434971</td>\n",
       "      <td>0.369957</td>\n",
       "      <td>0.369484</td>\n",
       "      <td>8.203331</td>\n",
       "    </tr>\n",
       "    <tr>\n",
       "      <th>2</th>\n",
       "      <td>4</td>\n",
       "      <td>0.834950</td>\n",
       "      <td>0.227436</td>\n",
       "      <td>0.301584</td>\n",
       "      <td>0.293408</td>\n",
       "      <td>0.606839</td>\n",
       "      <td>0.829175</td>\n",
       "      <td>0.506143</td>\n",
       "      <td>0.558771</td>\n",
       "      <td>0.587603</td>\n",
       "      <td>0.823312</td>\n",
       "      <td>0.567007</td>\n",
       "      <td>0.677708</td>\n",
       "      <td>0.882938</td>\n",
       "      <td>0.303047</td>\n",
       "      <td>7.776091</td>\n",
       "    </tr>\n",
       "    <tr>\n",
       "      <th>3</th>\n",
       "      <td>5</td>\n",
       "      <td>0.820708</td>\n",
       "      <td>0.160155</td>\n",
       "      <td>0.546887</td>\n",
       "      <td>0.726104</td>\n",
       "      <td>0.282444</td>\n",
       "      <td>0.785108</td>\n",
       "      <td>0.752758</td>\n",
       "      <td>0.823267</td>\n",
       "      <td>0.574466</td>\n",
       "      <td>0.580843</td>\n",
       "      <td>0.769594</td>\n",
       "      <td>0.818143</td>\n",
       "      <td>0.914281</td>\n",
       "      <td>0.279528</td>\n",
       "      <td>6.957716</td>\n",
       "    </tr>\n",
       "    <tr>\n",
       "      <th>4</th>\n",
       "      <td>8</td>\n",
       "      <td>0.935278</td>\n",
       "      <td>0.421235</td>\n",
       "      <td>0.303801</td>\n",
       "      <td>0.880214</td>\n",
       "      <td>0.665610</td>\n",
       "      <td>0.830131</td>\n",
       "      <td>0.487113</td>\n",
       "      <td>0.604157</td>\n",
       "      <td>0.874658</td>\n",
       "      <td>0.863427</td>\n",
       "      <td>0.983575</td>\n",
       "      <td>0.900464</td>\n",
       "      <td>0.935918</td>\n",
       "      <td>0.435772</td>\n",
       "      <td>7.951046</td>\n",
       "    </tr>\n",
       "    <tr>\n",
       "      <th>...</th>\n",
       "      <td>...</td>\n",
       "      <td>...</td>\n",
       "      <td>...</td>\n",
       "      <td>...</td>\n",
       "      <td>...</td>\n",
       "      <td>...</td>\n",
       "      <td>...</td>\n",
       "      <td>...</td>\n",
       "      <td>...</td>\n",
       "      <td>...</td>\n",
       "      <td>...</td>\n",
       "      <td>...</td>\n",
       "      <td>...</td>\n",
       "      <td>...</td>\n",
       "      <td>...</td>\n",
       "      <td>...</td>\n",
       "    </tr>\n",
       "    <tr>\n",
       "      <th>299995</th>\n",
       "      <td>499995</td>\n",
       "      <td>0.216974</td>\n",
       "      <td>0.735265</td>\n",
       "      <td>0.648648</td>\n",
       "      <td>0.255387</td>\n",
       "      <td>0.616353</td>\n",
       "      <td>0.345197</td>\n",
       "      <td>0.295718</td>\n",
       "      <td>0.304357</td>\n",
       "      <td>0.314351</td>\n",
       "      <td>0.860504</td>\n",
       "      <td>0.315397</td>\n",
       "      <td>0.247682</td>\n",
       "      <td>0.486542</td>\n",
       "      <td>0.288750</td>\n",
       "      <td>7.385215</td>\n",
       "    </tr>\n",
       "    <tr>\n",
       "      <th>299996</th>\n",
       "      <td>499996</td>\n",
       "      <td>0.545799</td>\n",
       "      <td>0.165139</td>\n",
       "      <td>0.220966</td>\n",
       "      <td>0.190053</td>\n",
       "      <td>0.359362</td>\n",
       "      <td>0.386336</td>\n",
       "      <td>0.365767</td>\n",
       "      <td>0.344217</td>\n",
       "      <td>0.466446</td>\n",
       "      <td>0.454581</td>\n",
       "      <td>0.360251</td>\n",
       "      <td>0.360755</td>\n",
       "      <td>0.292535</td>\n",
       "      <td>0.619984</td>\n",
       "      <td>7.242617</td>\n",
       "    </tr>\n",
       "    <tr>\n",
       "      <th>299997</th>\n",
       "      <td>499997</td>\n",
       "      <td>0.284401</td>\n",
       "      <td>0.841542</td>\n",
       "      <td>0.957585</td>\n",
       "      <td>0.340383</td>\n",
       "      <td>0.396279</td>\n",
       "      <td>0.330376</td>\n",
       "      <td>0.525687</td>\n",
       "      <td>0.260039</td>\n",
       "      <td>0.378174</td>\n",
       "      <td>0.526925</td>\n",
       "      <td>0.491735</td>\n",
       "      <td>0.516629</td>\n",
       "      <td>0.173521</td>\n",
       "      <td>0.714552</td>\n",
       "      <td>9.592487</td>\n",
       "    </tr>\n",
       "    <tr>\n",
       "      <th>299998</th>\n",
       "      <td>499998</td>\n",
       "      <td>0.481900</td>\n",
       "      <td>0.622346</td>\n",
       "      <td>0.540032</td>\n",
       "      <td>0.823118</td>\n",
       "      <td>0.283066</td>\n",
       "      <td>0.434283</td>\n",
       "      <td>0.174342</td>\n",
       "      <td>0.710843</td>\n",
       "      <td>0.358690</td>\n",
       "      <td>0.648272</td>\n",
       "      <td>0.984647</td>\n",
       "      <td>1.001110</td>\n",
       "      <td>0.063956</td>\n",
       "      <td>0.377693</td>\n",
       "      <td>8.207951</td>\n",
       "    </tr>\n",
       "    <tr>\n",
       "      <th>299999</th>\n",
       "      <td>499999</td>\n",
       "      <td>0.486632</td>\n",
       "      <td>0.230090</td>\n",
       "      <td>0.543587</td>\n",
       "      <td>0.263878</td>\n",
       "      <td>0.279118</td>\n",
       "      <td>0.636295</td>\n",
       "      <td>0.472391</td>\n",
       "      <td>0.339654</td>\n",
       "      <td>0.444787</td>\n",
       "      <td>0.636765</td>\n",
       "      <td>0.782196</td>\n",
       "      <td>0.559692</td>\n",
       "      <td>0.762954</td>\n",
       "      <td>0.215539</td>\n",
       "      <td>8.890285</td>\n",
       "    </tr>\n",
       "  </tbody>\n",
       "</table>\n",
       "<p>300000 rows × 16 columns</p>\n",
       "</div>"
      ],
      "text/plain": [
       "            id     cont1     cont2     cont3     cont4     cont5     cont6  \\\n",
       "0            1  0.670390  0.811300  0.643968  0.291791  0.284117  0.855953   \n",
       "1            3  0.388053  0.621104  0.686102  0.501149  0.643790  0.449805   \n",
       "2            4  0.834950  0.227436  0.301584  0.293408  0.606839  0.829175   \n",
       "3            5  0.820708  0.160155  0.546887  0.726104  0.282444  0.785108   \n",
       "4            8  0.935278  0.421235  0.303801  0.880214  0.665610  0.830131   \n",
       "...        ...       ...       ...       ...       ...       ...       ...   \n",
       "299995  499995  0.216974  0.735265  0.648648  0.255387  0.616353  0.345197   \n",
       "299996  499996  0.545799  0.165139  0.220966  0.190053  0.359362  0.386336   \n",
       "299997  499997  0.284401  0.841542  0.957585  0.340383  0.396279  0.330376   \n",
       "299998  499998  0.481900  0.622346  0.540032  0.823118  0.283066  0.434283   \n",
       "299999  499999  0.486632  0.230090  0.543587  0.263878  0.279118  0.636295   \n",
       "\n",
       "           cont7     cont8     cont9    cont10    cont11    cont12    cont13  \\\n",
       "0       0.890700  0.285542  0.558245  0.779418  0.921832  0.866772  0.878733   \n",
       "1       0.510824  0.580748  0.418335  0.432632  0.439872  0.434971  0.369957   \n",
       "2       0.506143  0.558771  0.587603  0.823312  0.567007  0.677708  0.882938   \n",
       "3       0.752758  0.823267  0.574466  0.580843  0.769594  0.818143  0.914281   \n",
       "4       0.487113  0.604157  0.874658  0.863427  0.983575  0.900464  0.935918   \n",
       "...          ...       ...       ...       ...       ...       ...       ...   \n",
       "299995  0.295718  0.304357  0.314351  0.860504  0.315397  0.247682  0.486542   \n",
       "299996  0.365767  0.344217  0.466446  0.454581  0.360251  0.360755  0.292535   \n",
       "299997  0.525687  0.260039  0.378174  0.526925  0.491735  0.516629  0.173521   \n",
       "299998  0.174342  0.710843  0.358690  0.648272  0.984647  1.001110  0.063956   \n",
       "299999  0.472391  0.339654  0.444787  0.636765  0.782196  0.559692  0.762954   \n",
       "\n",
       "          cont14    target  \n",
       "0       0.305411  7.243043  \n",
       "1       0.369484  8.203331  \n",
       "2       0.303047  7.776091  \n",
       "3       0.279528  6.957716  \n",
       "4       0.435772  7.951046  \n",
       "...          ...       ...  \n",
       "299995  0.288750  7.385215  \n",
       "299996  0.619984  7.242617  \n",
       "299997  0.714552  9.592487  \n",
       "299998  0.377693  8.207951  \n",
       "299999  0.215539  8.890285  \n",
       "\n",
       "[300000 rows x 16 columns]"
      ]
     },
     "execution_count": 338,
     "metadata": {},
     "output_type": "execute_result"
    }
   ],
   "source": [
    "df = pd.read_csv(\"/kaggle/input/tabular-playground-series-jan-2021/train.csv\")\n",
    "data = pd.read_csv(\"/kaggle/input/tabular-playground-series-jan-2021/test.csv\")\n",
    "df"
   ]
  },
  {
   "cell_type": "code",
   "execution_count": 339,
   "metadata": {
    "execution": {
     "iopub.execute_input": "2023-04-16T02:05:58.321819Z",
     "iopub.status.busy": "2023-04-16T02:05:58.321406Z",
     "iopub.status.idle": "2023-04-16T02:05:58.349809Z",
     "shell.execute_reply": "2023-04-16T02:05:58.348830Z",
     "shell.execute_reply.started": "2023-04-16T02:05:58.321782Z"
    }
   },
   "outputs": [
    {
     "data": {
      "text/html": [
       "<div>\n",
       "<style scoped>\n",
       "    .dataframe tbody tr th:only-of-type {\n",
       "        vertical-align: middle;\n",
       "    }\n",
       "\n",
       "    .dataframe tbody tr th {\n",
       "        vertical-align: top;\n",
       "    }\n",
       "\n",
       "    .dataframe thead th {\n",
       "        text-align: right;\n",
       "    }\n",
       "</style>\n",
       "<table border=\"1\" class=\"dataframe\">\n",
       "  <thead>\n",
       "    <tr style=\"text-align: right;\">\n",
       "      <th></th>\n",
       "      <th>id</th>\n",
       "      <th>cont1</th>\n",
       "      <th>cont2</th>\n",
       "      <th>cont3</th>\n",
       "      <th>cont4</th>\n",
       "      <th>cont5</th>\n",
       "      <th>cont6</th>\n",
       "      <th>cont7</th>\n",
       "      <th>cont8</th>\n",
       "      <th>cont9</th>\n",
       "      <th>cont10</th>\n",
       "      <th>cont11</th>\n",
       "      <th>cont12</th>\n",
       "      <th>cont13</th>\n",
       "      <th>cont14</th>\n",
       "    </tr>\n",
       "  </thead>\n",
       "  <tbody>\n",
       "    <tr>\n",
       "      <th>0</th>\n",
       "      <td>0</td>\n",
       "      <td>0.353600</td>\n",
       "      <td>0.738780</td>\n",
       "      <td>0.600939</td>\n",
       "      <td>0.293377</td>\n",
       "      <td>0.285691</td>\n",
       "      <td>0.458006</td>\n",
       "      <td>0.620704</td>\n",
       "      <td>0.422249</td>\n",
       "      <td>0.369203</td>\n",
       "      <td>0.435727</td>\n",
       "      <td>0.550540</td>\n",
       "      <td>0.699134</td>\n",
       "      <td>0.286864</td>\n",
       "      <td>0.364515</td>\n",
       "    </tr>\n",
       "    <tr>\n",
       "      <th>1</th>\n",
       "      <td>2</td>\n",
       "      <td>0.907222</td>\n",
       "      <td>0.189756</td>\n",
       "      <td>0.215531</td>\n",
       "      <td>0.869915</td>\n",
       "      <td>0.301333</td>\n",
       "      <td>0.528958</td>\n",
       "      <td>0.390351</td>\n",
       "      <td>0.521112</td>\n",
       "      <td>0.794779</td>\n",
       "      <td>0.798580</td>\n",
       "      <td>0.446475</td>\n",
       "      <td>0.449037</td>\n",
       "      <td>0.916964</td>\n",
       "      <td>0.513002</td>\n",
       "    </tr>\n",
       "    <tr>\n",
       "      <th>2</th>\n",
       "      <td>6</td>\n",
       "      <td>0.179287</td>\n",
       "      <td>0.355353</td>\n",
       "      <td>0.623972</td>\n",
       "      <td>0.437812</td>\n",
       "      <td>0.282476</td>\n",
       "      <td>0.320826</td>\n",
       "      <td>0.386789</td>\n",
       "      <td>0.776422</td>\n",
       "      <td>0.222268</td>\n",
       "      <td>0.229102</td>\n",
       "      <td>0.211913</td>\n",
       "      <td>0.222651</td>\n",
       "      <td>0.327164</td>\n",
       "      <td>0.827941</td>\n",
       "    </tr>\n",
       "    <tr>\n",
       "      <th>3</th>\n",
       "      <td>7</td>\n",
       "      <td>0.359385</td>\n",
       "      <td>0.181049</td>\n",
       "      <td>0.551368</td>\n",
       "      <td>0.206386</td>\n",
       "      <td>0.280763</td>\n",
       "      <td>0.482076</td>\n",
       "      <td>0.506677</td>\n",
       "      <td>0.362793</td>\n",
       "      <td>0.379737</td>\n",
       "      <td>0.345686</td>\n",
       "      <td>0.445276</td>\n",
       "      <td>0.518485</td>\n",
       "      <td>0.299028</td>\n",
       "      <td>0.598166</td>\n",
       "    </tr>\n",
       "    <tr>\n",
       "      <th>4</th>\n",
       "      <td>10</td>\n",
       "      <td>0.335791</td>\n",
       "      <td>0.682607</td>\n",
       "      <td>0.676481</td>\n",
       "      <td>0.219465</td>\n",
       "      <td>0.282861</td>\n",
       "      <td>0.581721</td>\n",
       "      <td>0.748639</td>\n",
       "      <td>0.350158</td>\n",
       "      <td>0.448915</td>\n",
       "      <td>0.506878</td>\n",
       "      <td>0.817721</td>\n",
       "      <td>0.805895</td>\n",
       "      <td>0.790591</td>\n",
       "      <td>0.249275</td>\n",
       "    </tr>\n",
       "    <tr>\n",
       "      <th>...</th>\n",
       "      <td>...</td>\n",
       "      <td>...</td>\n",
       "      <td>...</td>\n",
       "      <td>...</td>\n",
       "      <td>...</td>\n",
       "      <td>...</td>\n",
       "      <td>...</td>\n",
       "      <td>...</td>\n",
       "      <td>...</td>\n",
       "      <td>...</td>\n",
       "      <td>...</td>\n",
       "      <td>...</td>\n",
       "      <td>...</td>\n",
       "      <td>...</td>\n",
       "      <td>...</td>\n",
       "    </tr>\n",
       "    <tr>\n",
       "      <th>199995</th>\n",
       "      <td>499984</td>\n",
       "      <td>0.353856</td>\n",
       "      <td>0.677578</td>\n",
       "      <td>0.550852</td>\n",
       "      <td>0.869612</td>\n",
       "      <td>0.957635</td>\n",
       "      <td>0.255054</td>\n",
       "      <td>0.289138</td>\n",
       "      <td>0.635979</td>\n",
       "      <td>0.271399</td>\n",
       "      <td>0.282455</td>\n",
       "      <td>0.217169</td>\n",
       "      <td>0.219088</td>\n",
       "      <td>0.373261</td>\n",
       "      <td>0.272479</td>\n",
       "    </tr>\n",
       "    <tr>\n",
       "      <th>199996</th>\n",
       "      <td>499985</td>\n",
       "      <td>0.243209</td>\n",
       "      <td>0.135627</td>\n",
       "      <td>0.218393</td>\n",
       "      <td>0.792798</td>\n",
       "      <td>0.547639</td>\n",
       "      <td>0.433520</td>\n",
       "      <td>0.549540</td>\n",
       "      <td>0.650107</td>\n",
       "      <td>0.453787</td>\n",
       "      <td>0.459689</td>\n",
       "      <td>0.450424</td>\n",
       "      <td>0.511176</td>\n",
       "      <td>0.318334</td>\n",
       "      <td>0.395747</td>\n",
       "    </tr>\n",
       "    <tr>\n",
       "      <th>199997</th>\n",
       "      <td>499987</td>\n",
       "      <td>0.506973</td>\n",
       "      <td>0.683893</td>\n",
       "      <td>0.533434</td>\n",
       "      <td>0.192957</td>\n",
       "      <td>0.314381</td>\n",
       "      <td>0.358604</td>\n",
       "      <td>0.554455</td>\n",
       "      <td>0.267105</td>\n",
       "      <td>0.396101</td>\n",
       "      <td>0.445390</td>\n",
       "      <td>0.382656</td>\n",
       "      <td>0.397978</td>\n",
       "      <td>0.381235</td>\n",
       "      <td>0.369464</td>\n",
       "    </tr>\n",
       "    <tr>\n",
       "      <th>199998</th>\n",
       "      <td>499988</td>\n",
       "      <td>0.347870</td>\n",
       "      <td>0.553112</td>\n",
       "      <td>0.495284</td>\n",
       "      <td>0.861500</td>\n",
       "      <td>0.816914</td>\n",
       "      <td>0.298478</td>\n",
       "      <td>0.275964</td>\n",
       "      <td>0.265841</td>\n",
       "      <td>0.334250</td>\n",
       "      <td>0.252635</td>\n",
       "      <td>0.213589</td>\n",
       "      <td>0.285223</td>\n",
       "      <td>0.336772</td>\n",
       "      <td>0.388505</td>\n",
       "    </tr>\n",
       "    <tr>\n",
       "      <th>199999</th>\n",
       "      <td>499990</td>\n",
       "      <td>0.688188</td>\n",
       "      <td>0.358328</td>\n",
       "      <td>0.644511</td>\n",
       "      <td>0.766354</td>\n",
       "      <td>0.747591</td>\n",
       "      <td>0.727329</td>\n",
       "      <td>0.468329</td>\n",
       "      <td>0.576711</td>\n",
       "      <td>0.453124</td>\n",
       "      <td>0.381600</td>\n",
       "      <td>0.299126</td>\n",
       "      <td>0.499627</td>\n",
       "      <td>0.691078</td>\n",
       "      <td>0.668109</td>\n",
       "    </tr>\n",
       "  </tbody>\n",
       "</table>\n",
       "<p>200000 rows × 15 columns</p>\n",
       "</div>"
      ],
      "text/plain": [
       "            id     cont1     cont2     cont3     cont4     cont5     cont6  \\\n",
       "0            0  0.353600  0.738780  0.600939  0.293377  0.285691  0.458006   \n",
       "1            2  0.907222  0.189756  0.215531  0.869915  0.301333  0.528958   \n",
       "2            6  0.179287  0.355353  0.623972  0.437812  0.282476  0.320826   \n",
       "3            7  0.359385  0.181049  0.551368  0.206386  0.280763  0.482076   \n",
       "4           10  0.335791  0.682607  0.676481  0.219465  0.282861  0.581721   \n",
       "...        ...       ...       ...       ...       ...       ...       ...   \n",
       "199995  499984  0.353856  0.677578  0.550852  0.869612  0.957635  0.255054   \n",
       "199996  499985  0.243209  0.135627  0.218393  0.792798  0.547639  0.433520   \n",
       "199997  499987  0.506973  0.683893  0.533434  0.192957  0.314381  0.358604   \n",
       "199998  499988  0.347870  0.553112  0.495284  0.861500  0.816914  0.298478   \n",
       "199999  499990  0.688188  0.358328  0.644511  0.766354  0.747591  0.727329   \n",
       "\n",
       "           cont7     cont8     cont9    cont10    cont11    cont12    cont13  \\\n",
       "0       0.620704  0.422249  0.369203  0.435727  0.550540  0.699134  0.286864   \n",
       "1       0.390351  0.521112  0.794779  0.798580  0.446475  0.449037  0.916964   \n",
       "2       0.386789  0.776422  0.222268  0.229102  0.211913  0.222651  0.327164   \n",
       "3       0.506677  0.362793  0.379737  0.345686  0.445276  0.518485  0.299028   \n",
       "4       0.748639  0.350158  0.448915  0.506878  0.817721  0.805895  0.790591   \n",
       "...          ...       ...       ...       ...       ...       ...       ...   \n",
       "199995  0.289138  0.635979  0.271399  0.282455  0.217169  0.219088  0.373261   \n",
       "199996  0.549540  0.650107  0.453787  0.459689  0.450424  0.511176  0.318334   \n",
       "199997  0.554455  0.267105  0.396101  0.445390  0.382656  0.397978  0.381235   \n",
       "199998  0.275964  0.265841  0.334250  0.252635  0.213589  0.285223  0.336772   \n",
       "199999  0.468329  0.576711  0.453124  0.381600  0.299126  0.499627  0.691078   \n",
       "\n",
       "          cont14  \n",
       "0       0.364515  \n",
       "1       0.513002  \n",
       "2       0.827941  \n",
       "3       0.598166  \n",
       "4       0.249275  \n",
       "...          ...  \n",
       "199995  0.272479  \n",
       "199996  0.395747  \n",
       "199997  0.369464  \n",
       "199998  0.388505  \n",
       "199999  0.668109  \n",
       "\n",
       "[200000 rows x 15 columns]"
      ]
     },
     "execution_count": 339,
     "metadata": {},
     "output_type": "execute_result"
    }
   ],
   "source": [
    "data"
   ]
  },
  {
   "cell_type": "code",
   "execution_count": 340,
   "metadata": {
    "execution": {
     "iopub.execute_input": "2023-04-16T02:05:58.351922Z",
     "iopub.status.busy": "2023-04-16T02:05:58.351366Z",
     "iopub.status.idle": "2023-04-16T02:05:58.374995Z",
     "shell.execute_reply": "2023-04-16T02:05:58.373673Z",
     "shell.execute_reply.started": "2023-04-16T02:05:58.351885Z"
    }
   },
   "outputs": [
    {
     "name": "stdout",
     "output_type": "stream",
     "text": [
      "<class 'pandas.core.frame.DataFrame'>\n",
      "RangeIndex: 300000 entries, 0 to 299999\n",
      "Data columns (total 16 columns):\n",
      " #   Column  Non-Null Count   Dtype  \n",
      "---  ------  --------------   -----  \n",
      " 0   id      300000 non-null  int64  \n",
      " 1   cont1   300000 non-null  float64\n",
      " 2   cont2   300000 non-null  float64\n",
      " 3   cont3   300000 non-null  float64\n",
      " 4   cont4   300000 non-null  float64\n",
      " 5   cont5   300000 non-null  float64\n",
      " 6   cont6   300000 non-null  float64\n",
      " 7   cont7   300000 non-null  float64\n",
      " 8   cont8   300000 non-null  float64\n",
      " 9   cont9   300000 non-null  float64\n",
      " 10  cont10  300000 non-null  float64\n",
      " 11  cont11  300000 non-null  float64\n",
      " 12  cont12  300000 non-null  float64\n",
      " 13  cont13  300000 non-null  float64\n",
      " 14  cont14  300000 non-null  float64\n",
      " 15  target  300000 non-null  float64\n",
      "dtypes: float64(15), int64(1)\n",
      "memory usage: 36.6 MB\n"
     ]
    }
   ],
   "source": [
    "df.info()"
   ]
  },
  {
   "cell_type": "code",
   "execution_count": 341,
   "metadata": {
    "execution": {
     "iopub.execute_input": "2023-04-16T02:05:58.377838Z",
     "iopub.status.busy": "2023-04-16T02:05:58.377364Z",
     "iopub.status.idle": "2023-04-16T02:05:58.397804Z",
     "shell.execute_reply": "2023-04-16T02:05:58.396491Z",
     "shell.execute_reply.started": "2023-04-16T02:05:58.377801Z"
    }
   },
   "outputs": [
    {
     "data": {
      "text/plain": [
       "id        0\n",
       "cont1     0\n",
       "cont2     0\n",
       "cont3     0\n",
       "cont4     0\n",
       "cont5     0\n",
       "cont6     0\n",
       "cont7     0\n",
       "cont8     0\n",
       "cont9     0\n",
       "cont10    0\n",
       "cont11    0\n",
       "cont12    0\n",
       "cont13    0\n",
       "cont14    0\n",
       "target    0\n",
       "dtype: int64"
      ]
     },
     "execution_count": 341,
     "metadata": {},
     "output_type": "execute_result"
    }
   ],
   "source": [
    "df.isnull().sum()"
   ]
  },
  {
   "cell_type": "code",
   "execution_count": 342,
   "metadata": {
    "execution": {
     "iopub.execute_input": "2023-04-16T02:05:58.400119Z",
     "iopub.status.busy": "2023-04-16T02:05:58.399656Z",
     "iopub.status.idle": "2023-04-16T02:05:58.879349Z",
     "shell.execute_reply": "2023-04-16T02:05:58.878000Z",
     "shell.execute_reply.started": "2023-04-16T02:05:58.400068Z"
    }
   },
   "outputs": [
    {
     "name": "stdout",
     "output_type": "stream",
     "text": [
      "Index(['target', 'cont7', 'cont2', 'cont3', 'cont11', 'cont12', 'cont6',\n",
      "       'cont8', 'cont4', 'id', 'cont5', 'cont14', 'cont13', 'cont9', 'cont10',\n",
      "       'cont1'],\n",
      "      dtype='object')\n"
     ]
    },
    {
     "data": {
      "text/plain": [
       "target    1.000000\n",
       "cont7     0.067234\n",
       "cont2     0.067102\n",
       "cont3     0.058936\n",
       "cont11    0.050996\n",
       "cont12    0.047809\n",
       "cont6     0.027955\n",
       "cont8     0.014698\n",
       "cont4     0.005522\n",
       "id        0.001347\n",
       "cont5    -0.005358\n",
       "cont14   -0.006609\n",
       "cont13   -0.006642\n",
       "cont9    -0.013029\n",
       "cont10   -0.021143\n",
       "cont1    -0.032994\n",
       "Name: target, dtype: float64"
      ]
     },
     "execution_count": 342,
     "metadata": {},
     "output_type": "execute_result"
    }
   ],
   "source": [
    "aziz = df.corr()[\"target\"].sort_values(ascending = False).index\n",
    "print(aziz)\n",
    "df.corr()[\"target\"].sort_values(ascending = False)"
   ]
  },
  {
   "cell_type": "code",
   "execution_count": 343,
   "metadata": {
    "execution": {
     "iopub.execute_input": "2023-04-16T02:05:58.881057Z",
     "iopub.status.busy": "2023-04-16T02:05:58.880718Z",
     "iopub.status.idle": "2023-04-16T02:05:58.888609Z",
     "shell.execute_reply": "2023-04-16T02:05:58.887502Z",
     "shell.execute_reply.started": "2023-04-16T02:05:58.881023Z"
    }
   },
   "outputs": [
    {
     "data": {
      "text/plain": [
       "['cont7',\n",
       " 'cont2',\n",
       " 'cont3',\n",
       " 'cont11',\n",
       " 'cont12',\n",
       " 'cont6',\n",
       " 'cont8',\n",
       " 'cont4',\n",
       " 'id',\n",
       " 'target']"
      ]
     },
     "execution_count": 343,
     "metadata": {},
     "output_type": "execute_result"
    }
   ],
   "source": [
    "azizo = list(aziz[1:9])\n",
    "azizo.append(\"id\")\n",
    "azizo.append(\"target\")\n",
    "azizo"
   ]
  },
  {
   "cell_type": "code",
   "execution_count": 344,
   "metadata": {
    "execution": {
     "iopub.execute_input": "2023-04-16T02:05:58.890428Z",
     "iopub.status.busy": "2023-04-16T02:05:58.890090Z",
     "iopub.status.idle": "2023-04-16T02:05:58.901194Z",
     "shell.execute_reply": "2023-04-16T02:05:58.900340Z",
     "shell.execute_reply.started": "2023-04-16T02:05:58.890394Z"
    }
   },
   "outputs": [
    {
     "name": "stdout",
     "output_type": "stream",
     "text": [
      "Index(['cont7', 'cont2', 'cont3', 'cont11', 'cont12'], dtype='object')\n",
      "5\n"
     ]
    }
   ],
   "source": [
    "aziz = aziz[1:6]\n",
    "print(aziz)\n",
    "print(len(aziz))"
   ]
  },
  {
   "cell_type": "code",
   "execution_count": 345,
   "metadata": {
    "execution": {
     "iopub.execute_input": "2023-04-16T02:05:58.903168Z",
     "iopub.status.busy": "2023-04-16T02:05:58.902765Z",
     "iopub.status.idle": "2023-04-16T02:05:58.915693Z",
     "shell.execute_reply": "2023-04-16T02:05:58.914647Z",
     "shell.execute_reply.started": "2023-04-16T02:05:58.903136Z"
    }
   },
   "outputs": [],
   "source": [
    "df[aziz[0]] = df[aziz[0]]*2 + df[aziz[1]]*2"
   ]
  },
  {
   "cell_type": "code",
   "execution_count": 346,
   "metadata": {
    "execution": {
     "iopub.execute_input": "2023-04-16T02:05:58.917602Z",
     "iopub.status.busy": "2023-04-16T02:05:58.917253Z",
     "iopub.status.idle": "2023-04-16T02:05:58.928039Z",
     "shell.execute_reply": "2023-04-16T02:05:58.926714Z",
     "shell.execute_reply.started": "2023-04-16T02:05:58.917548Z"
    }
   },
   "outputs": [],
   "source": [
    "df[aziz[1]] = df[aziz[3]]*2 + df[aziz[1]]*2"
   ]
  },
  {
   "cell_type": "code",
   "execution_count": 347,
   "metadata": {
    "execution": {
     "iopub.execute_input": "2023-04-16T02:05:58.933442Z",
     "iopub.status.busy": "2023-04-16T02:05:58.932021Z",
     "iopub.status.idle": "2023-04-16T02:05:58.943095Z",
     "shell.execute_reply": "2023-04-16T02:05:58.941708Z",
     "shell.execute_reply.started": "2023-04-16T02:05:58.933378Z"
    }
   },
   "outputs": [],
   "source": [
    "df[aziz[2]] = df[aziz[3]]*2 + df[aziz[0]]*6"
   ]
  },
  {
   "cell_type": "code",
   "execution_count": 348,
   "metadata": {
    "execution": {
     "iopub.execute_input": "2023-04-16T02:05:58.945699Z",
     "iopub.status.busy": "2023-04-16T02:05:58.945247Z",
     "iopub.status.idle": "2023-04-16T02:05:58.953972Z",
     "shell.execute_reply": "2023-04-16T02:05:58.952571Z",
     "shell.execute_reply.started": "2023-04-16T02:05:58.945657Z"
    }
   },
   "outputs": [],
   "source": [
    "df[aziz[3]] = df[aziz[4]] + df[aziz[3]]"
   ]
  },
  {
   "cell_type": "code",
   "execution_count": 349,
   "metadata": {
    "execution": {
     "iopub.execute_input": "2023-04-16T02:05:58.956768Z",
     "iopub.status.busy": "2023-04-16T02:05:58.956368Z",
     "iopub.status.idle": "2023-04-16T02:05:58.972082Z",
     "shell.execute_reply": "2023-04-16T02:05:58.970668Z",
     "shell.execute_reply.started": "2023-04-16T02:05:58.956730Z"
    }
   },
   "outputs": [
    {
     "data": {
      "text/plain": [
       "0         3.404000\n",
       "1         2.263856\n",
       "2         1.467160\n",
       "3         1.825827\n",
       "4         1.816697\n",
       "            ...   \n",
       "299995    2.061966\n",
       "299996    1.061812\n",
       "299997    2.734458\n",
       "299998    1.593376\n",
       "299999    1.404961\n",
       "Name: cont7, Length: 300000, dtype: float64"
      ]
     },
     "execution_count": 349,
     "metadata": {},
     "output_type": "execute_result"
    }
   ],
   "source": [
    "df[aziz[0]]"
   ]
  },
  {
   "cell_type": "code",
   "execution_count": 350,
   "metadata": {
    "execution": {
     "iopub.execute_input": "2023-04-16T02:05:58.973835Z",
     "iopub.status.busy": "2023-04-16T02:05:58.973332Z",
     "iopub.status.idle": "2023-04-16T02:05:59.227993Z",
     "shell.execute_reply": "2023-04-16T02:05:59.226849Z",
     "shell.execute_reply.started": "2023-04-16T02:05:58.973781Z"
    }
   },
   "outputs": [
    {
     "data": {
      "text/plain": [
       "target    1.000000\n",
       "cont3     0.089811\n",
       "cont7     0.089431\n",
       "cont2     0.078879\n",
       "cont11    0.051709\n",
       "cont12    0.047809\n",
       "cont6     0.027955\n",
       "cont8     0.014698\n",
       "cont4     0.005522\n",
       "id        0.001347\n",
       "cont5    -0.005358\n",
       "cont14   -0.006609\n",
       "cont13   -0.006642\n",
       "cont9    -0.013029\n",
       "cont10   -0.021143\n",
       "cont1    -0.032994\n",
       "Name: target, dtype: float64"
      ]
     },
     "execution_count": 350,
     "metadata": {},
     "output_type": "execute_result"
    }
   ],
   "source": [
    "df.corr()[\"target\"].sort_values(ascending = False)"
   ]
  },
  {
   "cell_type": "code",
   "execution_count": 351,
   "metadata": {
    "execution": {
     "iopub.execute_input": "2023-04-16T02:05:59.229812Z",
     "iopub.status.busy": "2023-04-16T02:05:59.229341Z",
     "iopub.status.idle": "2023-04-16T02:06:09.362904Z",
     "shell.execute_reply": "2023-04-16T02:06:09.361632Z",
     "shell.execute_reply.started": "2023-04-16T02:05:59.229764Z"
    }
   },
   "outputs": [
    {
     "name": "stdout",
     "output_type": "stream",
     "text": [
      "cont1\n"
     ]
    },
    {
     "data": {
      "image/png": "[encoded data removed]",
      "text/plain": [
       "<Figure size 640x480 with 1 Axes>"
      ]
     },
     "metadata": {},
     "output_type": "display_data"
    },
    {
     "name": "stdout",
     "output_type": "stream",
     "text": [
      "0.360846    2\n",
      "0.681961    2\n",
      "0.477030    2\n",
      "0.498108    2\n",
      "0.578353    2\n",
      "           ..\n",
      "0.936287    1\n",
      "0.774905    1\n",
      "0.282492    1\n",
      "0.829187    1\n",
      "0.486632    1\n",
      "Name: cont1, Length: 299865, dtype: int64\n",
      "-------------------------------------------------------------------------------------\n",
      "-------------------------------------------------------------------------------------\n",
      "cont2\n"
     ]
    },
    {
     "data": {
      "image/png": "[encoded data removed]",
      "text/plain": [
       "<Figure size 640x480 with 1 Axes>"
      ]
     },
     "metadata": {},
     "output_type": "display_data"
    },
    {
     "name": "stdout",
     "output_type": "stream",
     "text": [
      "3.466263    1\n",
      "2.429466    1\n",
      "1.693955    1\n",
      "2.269173    1\n",
      "2.010302    1\n",
      "           ..\n",
      "1.079799    1\n",
      "1.415222    1\n",
      "2.580411    1\n",
      "1.404422    1\n",
      "2.024571    1\n",
      "Name: cont2, Length: 300000, dtype: int64\n",
      "-------------------------------------------------------------------------------------\n",
      "-------------------------------------------------------------------------------------\n",
      "cont3\n"
     ]
    },
    {
     "data": {
      "image/png": "[encoded data removed]",
      "text/plain": [
       "<Figure size 640x480 with 1 Axes>"
      ]
     },
     "metadata": {},
     "output_type": "display_data"
    },
    {
     "name": "stdout",
     "output_type": "stream",
     "text": [
      "22.267663    1\n",
      "16.618507    1\n",
      "8.256476     1\n",
      "13.410917    1\n",
      "12.028951    1\n",
      "            ..\n",
      "6.717860     1\n",
      "8.260644     1\n",
      "16.034938    1\n",
      "8.140554     1\n",
      "9.994160     1\n",
      "Name: cont3, Length: 300000, dtype: int64\n",
      "-------------------------------------------------------------------------------------\n",
      "-------------------------------------------------------------------------------------\n",
      "cont4\n"
     ]
    },
    {
     "data": {
      "image/png": "[encoded data removed]",
      "text/plain": [
       "<Figure size 640x480 with 1 Axes>"
      ]
     },
     "metadata": {},
     "output_type": "display_data"
    },
    {
     "name": "stdout",
     "output_type": "stream",
     "text": [
      "0.201229    2\n",
      "0.256831    2\n",
      "0.487485    2\n",
      "0.569361    2\n",
      "0.846497    2\n",
      "           ..\n",
      "0.282988    1\n",
      "0.853899    1\n",
      "0.768331    1\n",
      "0.482462    1\n",
      "0.263878    1\n",
      "Name: cont4, Length: 299892, dtype: int64\n",
      "-------------------------------------------------------------------------------------\n",
      "-------------------------------------------------------------------------------------\n",
      "cont5\n"
     ]
    },
    {
     "data": {
      "image/png": "[encoded data removed]",
      "text/plain": [
       "<Figure size 640x480 with 1 Axes>"
      ]
     },
     "metadata": {},
     "output_type": "display_data"
    },
    {
     "name": "stdout",
     "output_type": "stream",
     "text": [
      "0.283297    3\n",
      "0.282485    2\n",
      "0.282309    2\n",
      "0.768160    2\n",
      "0.284422    2\n",
      "           ..\n",
      "0.279892    1\n",
      "0.524382    1\n",
      "0.645854    1\n",
      "0.313485    1\n",
      "0.279118    1\n",
      "Name: cont5, Length: 299730, dtype: int64\n",
      "-------------------------------------------------------------------------------------\n",
      "-------------------------------------------------------------------------------------\n",
      "cont6\n"
     ]
    },
    {
     "data": {
      "image/png": "[encoded data removed]",
      "text/plain": [
       "<Figure size 640x480 with 1 Axes>"
      ]
     },
     "metadata": {},
     "output_type": "display_data"
    },
    {
     "name": "stdout",
     "output_type": "stream",
     "text": [
      "0.343690    2\n",
      "0.361695    2\n",
      "0.770407    2\n",
      "0.314771    2\n",
      "0.258257    2\n",
      "           ..\n",
      "0.948686    1\n",
      "0.482789    1\n",
      "0.920555    1\n",
      "0.669053    1\n",
      "0.636295    1\n",
      "Name: cont6, Length: 299830, dtype: int64\n",
      "-------------------------------------------------------------------------------------\n",
      "-------------------------------------------------------------------------------------\n",
      "cont7\n"
     ]
    },
    {
     "data": {
      "image/png": "[encoded data removed]",
      "text/plain": [
       "<Figure size 640x480 with 1 Axes>"
      ]
     },
     "metadata": {},
     "output_type": "display_data"
    },
    {
     "name": "stdout",
     "output_type": "stream",
     "text": [
      "3.404000    1\n",
      "2.627621    1\n",
      "1.170066    1\n",
      "1.941835    1\n",
      "1.809327    1\n",
      "           ..\n",
      "0.969407    1\n",
      "1.280827    1\n",
      "2.508669    1\n",
      "1.241512    1\n",
      "1.404961    1\n",
      "Name: cont7, Length: 300000, dtype: int64\n",
      "-------------------------------------------------------------------------------------\n",
      "-------------------------------------------------------------------------------------\n",
      "cont8\n"
     ]
    },
    {
     "data": {
      "image/png": "[encoded data removed]",
      "text/plain": [
       "<Figure size 640x480 with 1 Axes>"
      ]
     },
     "metadata": {},
     "output_type": "display_data"
    },
    {
     "name": "stdout",
     "output_type": "stream",
     "text": [
      "0.361963    2\n",
      "0.362675    2\n",
      "0.380566    2\n",
      "0.351910    2\n",
      "0.792706    2\n",
      "           ..\n",
      "0.646515    1\n",
      "0.565124    1\n",
      "0.324169    1\n",
      "0.818644    1\n",
      "0.339654    1\n",
      "Name: cont8, Length: 299853, dtype: int64\n",
      "-------------------------------------------------------------------------------------\n",
      "-------------------------------------------------------------------------------------\n",
      "cont9\n"
     ]
    },
    {
     "data": {
      "image/png": "[encoded data removed]",
      "text/plain": [
       "<Figure size 640x480 with 1 Axes>"
      ]
     },
     "metadata": {},
     "output_type": "display_data"
    },
    {
     "name": "stdout",
     "output_type": "stream",
     "text": [
      "0.345653    2\n",
      "0.445091    2\n",
      "0.404488    2\n",
      "0.333055    2\n",
      "0.285222    2\n",
      "           ..\n",
      "0.855527    1\n",
      "0.943410    1\n",
      "0.388701    1\n",
      "0.336939    1\n",
      "0.444787    1\n",
      "Name: cont9, Length: 299651, dtype: int64\n",
      "-------------------------------------------------------------------------------------\n",
      "-------------------------------------------------------------------------------------\n",
      "cont10\n"
     ]
    },
    {
     "data": {
      "image/png": "[encoded data removed]",
      "text/plain": [
       "<Figure size 640x480 with 1 Axes>"
      ]
     },
     "metadata": {},
     "output_type": "display_data"
    },
    {
     "name": "stdout",
     "output_type": "stream",
     "text": [
      "0.473340    2\n",
      "0.852232    2\n",
      "0.387747    2\n",
      "0.790676    2\n",
      "0.853124    2\n",
      "           ..\n",
      "0.822315    1\n",
      "0.529803    1\n",
      "0.805870    1\n",
      "0.449470    1\n",
      "0.636765    1\n",
      "Name: cont10, Length: 299851, dtype: int64\n",
      "-------------------------------------------------------------------------------------\n",
      "-------------------------------------------------------------------------------------\n",
      "cont11\n"
     ]
    },
    {
     "data": {
      "image/png": "[encoded data removed]",
      "text/plain": [
       "<Figure size 640x480 with 1 Axes>"
      ]
     },
     "metadata": {},
     "output_type": "display_data"
    },
    {
     "name": "stdout",
     "output_type": "stream",
     "text": [
      "1.788604    1\n",
      "0.900106    1\n",
      "1.158471    1\n",
      "1.689323    1\n",
      "1.121227    1\n",
      "           ..\n",
      "0.925166    1\n",
      "0.508968    1\n",
      "0.991913    1\n",
      "0.701497    1\n",
      "1.341888    1\n",
      "Name: cont11, Length: 300000, dtype: int64\n",
      "-------------------------------------------------------------------------------------\n",
      "-------------------------------------------------------------------------------------\n",
      "cont12\n"
     ]
    },
    {
     "data": {
      "image/png": "[encoded data removed]",
      "text/plain": [
       "<Figure size 640x480 with 1 Axes>"
      ]
     },
     "metadata": {},
     "output_type": "display_data"
    },
    {
     "name": "stdout",
     "output_type": "stream",
     "text": [
      "0.784409    2\n",
      "0.689396    2\n",
      "0.818844    2\n",
      "0.881716    2\n",
      "0.733443    2\n",
      "           ..\n",
      "0.469840    1\n",
      "0.685705    1\n",
      "0.354576    1\n",
      "0.718756    1\n",
      "0.559692    1\n",
      "Name: cont12, Length: 299886, dtype: int64\n",
      "-------------------------------------------------------------------------------------\n",
      "-------------------------------------------------------------------------------------\n",
      "cont13\n"
     ]
    },
    {
     "data": {
      "image/png": "[encoded data removed]",
      "text/plain": [
       "<Figure size 640x480 with 1 Axes>"
      ]
     },
     "metadata": {},
     "output_type": "display_data"
    },
    {
     "name": "stdout",
     "output_type": "stream",
     "text": [
      "0.373036    3\n",
      "0.417585    2\n",
      "0.367890    2\n",
      "0.342982    2\n",
      "0.354921    2\n",
      "           ..\n",
      "0.821659    1\n",
      "0.392893    1\n",
      "0.902937    1\n",
      "0.748451    1\n",
      "0.762954    1\n",
      "Name: cont13, Length: 299728, dtype: int64\n",
      "-------------------------------------------------------------------------------------\n",
      "-------------------------------------------------------------------------------------\n",
      "cont14\n"
     ]
    },
    {
     "data": {
      "image/png": "[encoded data removed]",
      "text/plain": [
       "<Figure size 640x480 with 1 Axes>"
      ]
     },
     "metadata": {},
     "output_type": "display_data"
    },
    {
     "name": "stdout",
     "output_type": "stream",
     "text": [
      "0.637555    2\n",
      "0.575581    2\n",
      "0.843097    2\n",
      "0.405276    2\n",
      "0.409421    2\n",
      "           ..\n",
      "0.362875    1\n",
      "0.300912    1\n",
      "0.750893    1\n",
      "0.244457    1\n",
      "0.215539    1\n",
      "Name: cont14, Length: 299868, dtype: int64\n",
      "-------------------------------------------------------------------------------------\n",
      "-------------------------------------------------------------------------------------\n"
     ]
    }
   ],
   "source": [
    "import seaborn as sns\n",
    "import matplotlib.pyplot as plt\n",
    "for i in range(1,len(df.columns)-1):\n",
    "    print(df.columns[i])\n",
    "    aziz = df[df.columns[i]].value_counts()\n",
    "    sns.histplot(df[df.columns[i]])\n",
    "    plt.show()\n",
    "    print(aziz)\n",
    "    print(\"-\"*85)\n",
    "    print(\"-\"*85)"
   ]
  },
  {
   "cell_type": "code",
   "execution_count": 352,
   "metadata": {
    "execution": {
     "iopub.execute_input": "2023-04-16T02:06:09.366057Z",
     "iopub.status.busy": "2023-04-16T02:06:09.365152Z",
     "iopub.status.idle": "2023-04-16T02:06:09.374476Z",
     "shell.execute_reply": "2023-04-16T02:06:09.373116Z",
     "shell.execute_reply.started": "2023-04-16T02:06:09.365994Z"
    }
   },
   "outputs": [
    {
     "data": {
      "text/plain": [
       "['cont7',\n",
       " 'cont2',\n",
       " 'cont3',\n",
       " 'cont11',\n",
       " 'cont12',\n",
       " 'cont6',\n",
       " 'cont8',\n",
       " 'cont4',\n",
       " 'id',\n",
       " 'target']"
      ]
     },
     "execution_count": 352,
     "metadata": {},
     "output_type": "execute_result"
    }
   ],
   "source": [
    "azizo"
   ]
  },
  {
   "cell_type": "markdown",
   "metadata": {},
   "source": [
    "# Derin Öğrenme ile Regression"
   ]
  },
  {
   "cell_type": "code",
   "execution_count": 353,
   "metadata": {
    "execution": {
     "iopub.execute_input": "2023-04-16T02:06:09.376550Z",
     "iopub.status.busy": "2023-04-16T02:06:09.376220Z",
     "iopub.status.idle": "2023-04-16T02:06:09.412371Z",
     "shell.execute_reply": "2023-04-16T02:06:09.411379Z",
     "shell.execute_reply.started": "2023-04-16T02:06:09.376517Z"
    }
   },
   "outputs": [
    {
     "data": {
      "text/html": [
       "<div>\n",
       "<style scoped>\n",
       "    .dataframe tbody tr th:only-of-type {\n",
       "        vertical-align: middle;\n",
       "    }\n",
       "\n",
       "    .dataframe tbody tr th {\n",
       "        vertical-align: top;\n",
       "    }\n",
       "\n",
       "    .dataframe thead th {\n",
       "        text-align: right;\n",
       "    }\n",
       "</style>\n",
       "<table border=\"1\" class=\"dataframe\">\n",
       "  <thead>\n",
       "    <tr style=\"text-align: right;\">\n",
       "      <th></th>\n",
       "      <th>id</th>\n",
       "      <th>cont1</th>\n",
       "      <th>cont2</th>\n",
       "      <th>cont3</th>\n",
       "      <th>cont4</th>\n",
       "      <th>cont5</th>\n",
       "      <th>cont6</th>\n",
       "      <th>cont7</th>\n",
       "      <th>cont8</th>\n",
       "      <th>cont9</th>\n",
       "      <th>cont10</th>\n",
       "      <th>cont11</th>\n",
       "      <th>cont12</th>\n",
       "      <th>cont13</th>\n",
       "      <th>cont14</th>\n",
       "      <th>target</th>\n",
       "    </tr>\n",
       "  </thead>\n",
       "  <tbody>\n",
       "    <tr>\n",
       "      <th>99911</th>\n",
       "      <td>166103</td>\n",
       "      <td>0.492500</td>\n",
       "      <td>1.581328</td>\n",
       "      <td>12.116774</td>\n",
       "      <td>0.191676</td>\n",
       "      <td>0.284047</td>\n",
       "      <td>0.441978</td>\n",
       "      <td>1.832991</td>\n",
       "      <td>0.435876</td>\n",
       "      <td>0.362277</td>\n",
       "      <td>0.418928</td>\n",
       "      <td>1.336797</td>\n",
       "      <td>0.777382</td>\n",
       "      <td>0.292180</td>\n",
       "      <td>0.579396</td>\n",
       "      <td>7.773929</td>\n",
       "    </tr>\n",
       "    <tr>\n",
       "      <th>221941</th>\n",
       "      <td>369766</td>\n",
       "      <td>0.894951</td>\n",
       "      <td>2.242010</td>\n",
       "      <td>15.280635</td>\n",
       "      <td>0.250613</td>\n",
       "      <td>0.283351</td>\n",
       "      <td>0.625218</td>\n",
       "      <td>2.238088</td>\n",
       "      <td>0.358816</td>\n",
       "      <td>0.481104</td>\n",
       "      <td>0.616746</td>\n",
       "      <td>1.866859</td>\n",
       "      <td>0.940807</td>\n",
       "      <td>0.352098</td>\n",
       "      <td>0.741787</td>\n",
       "      <td>8.157148</td>\n",
       "    </tr>\n",
       "  </tbody>\n",
       "</table>\n",
       "</div>"
      ],
      "text/plain": [
       "            id     cont1     cont2      cont3     cont4     cont5     cont6  \\\n",
       "99911   166103  0.492500  1.581328  12.116774  0.191676  0.284047  0.441978   \n",
       "221941  369766  0.894951  2.242010  15.280635  0.250613  0.283351  0.625218   \n",
       "\n",
       "           cont7     cont8     cont9    cont10    cont11    cont12    cont13  \\\n",
       "99911   1.832991  0.435876  0.362277  0.418928  1.336797  0.777382  0.292180   \n",
       "221941  2.238088  0.358816  0.481104  0.616746  1.866859  0.940807  0.352098   \n",
       "\n",
       "          cont14    target  \n",
       "99911   0.579396  7.773929  \n",
       "221941  0.741787  8.157148  "
      ]
     },
     "execution_count": 353,
     "metadata": {},
     "output_type": "execute_result"
    }
   ],
   "source": [
    "df.sample(2)"
   ]
  },
  {
   "cell_type": "code",
   "execution_count": 354,
   "metadata": {
    "execution": {
     "iopub.execute_input": "2023-04-16T02:06:09.414671Z",
     "iopub.status.busy": "2023-04-16T02:06:09.414265Z",
     "iopub.status.idle": "2023-04-16T02:06:09.441217Z",
     "shell.execute_reply": "2023-04-16T02:06:09.439685Z",
     "shell.execute_reply.started": "2023-04-16T02:06:09.414617Z"
    }
   },
   "outputs": [],
   "source": [
    "x = df.drop([\"id\",\"target\"], axis=1)\n",
    "y = df[[\"target\"]]"
   ]
  },
  {
   "cell_type": "code",
   "execution_count": 355,
   "metadata": {
    "execution": {
     "iopub.execute_input": "2023-04-16T02:06:09.443698Z",
     "iopub.status.busy": "2023-04-16T02:06:09.443156Z",
     "iopub.status.idle": "2023-04-16T02:06:09.451470Z",
     "shell.execute_reply": "2023-04-16T02:06:09.450256Z",
     "shell.execute_reply.started": "2023-04-16T02:06:09.443645Z"
    }
   },
   "outputs": [],
   "source": [
    "from tensorflow.keras.models import Sequential\n",
    "from tensorflow.keras.layers import Dense\n",
    "from sklearn.model_selection import train_test_split\n",
    "from sklearn.metrics import r2_score\n",
    "from sklearn.metrics import mean_squared_error"
   ]
  },
  {
   "cell_type": "code",
   "execution_count": 356,
   "metadata": {
    "execution": {
     "iopub.execute_input": "2023-04-16T02:06:09.453467Z",
     "iopub.status.busy": "2023-04-16T02:06:09.453011Z",
     "iopub.status.idle": "2023-04-16T02:06:09.514144Z",
     "shell.execute_reply": "2023-04-16T02:06:09.512948Z",
     "shell.execute_reply.started": "2023-04-16T02:06:09.453419Z"
    }
   },
   "outputs": [],
   "source": [
    "x_train, x_test, y_train, y_test = train_test_split(x,y, train_size=0.80, random_state=42)"
   ]
  },
  {
   "cell_type": "code",
   "execution_count": 357,
   "metadata": {
    "execution": {
     "iopub.execute_input": "2023-04-16T02:06:09.516031Z",
     "iopub.status.busy": "2023-04-16T02:06:09.515566Z",
     "iopub.status.idle": "2023-04-16T02:06:09.542449Z",
     "shell.execute_reply": "2023-04-16T02:06:09.541439Z",
     "shell.execute_reply.started": "2023-04-16T02:06:09.515961Z"
    }
   },
   "outputs": [],
   "source": [
    "model=Sequential()\n",
    "model.add(Dense(16,activation='relu'))\n",
    "model.add(Dense(64,activation='relu'))\n",
    "model.add(Dense(16,activation='relu'))\n",
    "model.add(Dense(4,activation='relu'))\n",
    "model.add(Dense(1)) # regresyonda burayı 1 seçiyoruz activation yazmıyoruz\n",
    "model.compile(loss=\"mse\",optimizer='adam')"
   ]
  },
  {
   "cell_type": "code",
   "execution_count": 358,
   "metadata": {
    "execution": {
     "iopub.execute_input": "2023-04-16T02:06:09.545132Z",
     "iopub.status.busy": "2023-04-16T02:06:09.543795Z",
     "iopub.status.idle": "2023-04-16T02:07:32.582072Z",
     "shell.execute_reply": "2023-04-16T02:07:32.580610Z",
     "shell.execute_reply.started": "2023-04-16T02:06:09.545074Z"
    }
   },
   "outputs": [
    {
     "name": "stdout",
     "output_type": "stream",
     "text": [
      "Epoch 1/5\n",
      "3750/3750 [==============================] - 10s 2ms/step - loss: 39.2940 - val_loss: 20.6582\n",
      "Epoch 2/5\n",
      "3750/3750 [==============================] - 8s 2ms/step - loss: 10.1760 - val_loss: 3.1318\n",
      "Epoch 3/5\n",
      "3750/3750 [==============================] - 8s 2ms/step - loss: 1.1791 - val_loss: 0.5371\n",
      "Epoch 4/5\n",
      "3750/3750 [==============================] - 9s 2ms/step - loss: 0.5386 - val_loss: 0.5333\n",
      "Epoch 5/5\n",
      "3750/3750 [==============================] - 9s 2ms/step - loss: 0.5384 - val_loss: 0.5338\n"
     ]
    }
   ],
   "source": [
    "epochs = 5\n",
    "history = model.fit(x_train,y_train,validation_data=(x_test,y_test),epochs=epochs, batch_size=64, verbose=1)"
   ]
  },
  {
   "cell_type": "code",
   "execution_count": 359,
   "metadata": {
    "execution": {
     "iopub.execute_input": "2023-04-16T02:07:32.585101Z",
     "iopub.status.busy": "2023-04-16T02:07:32.584349Z",
     "iopub.status.idle": "2023-04-16T02:07:32.613714Z",
     "shell.execute_reply": "2023-04-16T02:07:32.612462Z",
     "shell.execute_reply.started": "2023-04-16T02:07:32.585056Z"
    }
   },
   "outputs": [
    {
     "name": "stdout",
     "output_type": "stream",
     "text": [
      "Model: \"sequential_8\"\n",
      "_________________________________________________________________\n",
      " Layer (type)                Output Shape              Param #   \n",
      "=================================================================\n",
      " dense_56 (Dense)            (None, 16)                240       \n",
      "                                                                 \n",
      " dense_57 (Dense)            (None, 64)                1088      \n",
      "                                                                 \n",
      " dense_58 (Dense)            (None, 16)                1040      \n",
      "                                                                 \n",
      " dense_59 (Dense)            (None, 4)                 68        \n",
      "                                                                 \n",
      " dense_60 (Dense)            (None, 1)                 5         \n",
      "                                                                 \n",
      "=================================================================\n",
      "Total params: 2,441\n",
      "Trainable params: 2,441\n",
      "Non-trainable params: 0\n",
      "_________________________________________________________________\n"
     ]
    }
   ],
   "source": [
    "model.summary()"
   ]
  },
  {
   "cell_type": "code",
   "execution_count": 360,
   "metadata": {
    "execution": {
     "iopub.execute_input": "2023-04-16T02:07:32.615637Z",
     "iopub.status.busy": "2023-04-16T02:07:32.615115Z",
     "iopub.status.idle": "2023-04-16T02:07:35.706976Z",
     "shell.execute_reply": "2023-04-16T02:07:35.705723Z",
     "shell.execute_reply.started": "2023-04-16T02:07:32.615600Z"
    }
   },
   "outputs": [
    {
     "name": "stdout",
     "output_type": "stream",
     "text": [
      "1875/1875 [==============================] - 3s 2ms/step - loss: 0.5338\n"
     ]
    },
    {
     "data": {
      "text/plain": [
       "0.5338037610054016"
      ]
     },
     "execution_count": 360,
     "metadata": {},
     "output_type": "execute_result"
    }
   ],
   "source": [
    "model.evaluate(x_test,y_test)"
   ]
  },
  {
   "cell_type": "code",
   "execution_count": 361,
   "metadata": {
    "execution": {
     "iopub.execute_input": "2023-04-16T02:07:35.708938Z",
     "iopub.status.busy": "2023-04-16T02:07:35.708543Z",
     "iopub.status.idle": "2023-04-16T02:07:40.943348Z",
     "shell.execute_reply": "2023-04-16T02:07:40.942170Z",
     "shell.execute_reply.started": "2023-04-16T02:07:35.708902Z"
    }
   },
   "outputs": [
    {
     "name": "stdout",
     "output_type": "stream",
     "text": [
      "1875/1875 [==============================] - 2s 1ms/step\n"
     ]
    }
   ],
   "source": [
    "tahmin = model.predict(x_test)"
   ]
  },
  {
   "cell_type": "code",
   "execution_count": 362,
   "metadata": {
    "execution": {
     "iopub.execute_input": "2023-04-16T02:07:40.945706Z",
     "iopub.status.busy": "2023-04-16T02:07:40.945217Z",
     "iopub.status.idle": "2023-04-16T02:07:40.956972Z",
     "shell.execute_reply": "2023-04-16T02:07:40.955605Z",
     "shell.execute_reply.started": "2023-04-16T02:07:40.945651Z"
    }
   },
   "outputs": [
    {
     "data": {
      "text/plain": [
       "-93907769748.2371"
      ]
     },
     "execution_count": 362,
     "metadata": {},
     "output_type": "execute_result"
    }
   ],
   "source": [
    "r2_score(tahmin,y_test)"
   ]
  },
  {
   "cell_type": "code",
   "execution_count": 363,
   "metadata": {
    "execution": {
     "iopub.execute_input": "2023-04-16T02:07:40.959258Z",
     "iopub.status.busy": "2023-04-16T02:07:40.958842Z",
     "iopub.status.idle": "2023-04-16T02:07:40.974095Z",
     "shell.execute_reply": "2023-04-16T02:07:40.972920Z",
     "shell.execute_reply.started": "2023-04-16T02:07:40.959221Z"
    }
   },
   "outputs": [
    {
     "data": {
      "text/plain": [
       "0.7306188260741849"
      ]
     },
     "execution_count": 363,
     "metadata": {},
     "output_type": "execute_result"
    }
   ],
   "source": [
    "(mean_squared_error(y_test,tahmin))**.5"
   ]
  },
  {
   "cell_type": "code",
   "execution_count": 364,
   "metadata": {
    "execution": {
     "iopub.execute_input": "2023-04-16T02:07:40.976740Z",
     "iopub.status.busy": "2023-04-16T02:07:40.975496Z",
     "iopub.status.idle": "2023-04-16T02:07:41.311684Z",
     "shell.execute_reply": "2023-04-16T02:07:41.310446Z",
     "shell.execute_reply.started": "2023-04-16T02:07:40.976702Z"
    }
   },
   "outputs": [
    {
     "data": {
      "text/plain": [
       "<AxesSubplot:>"
      ]
     },
     "execution_count": 364,
     "metadata": {},
     "output_type": "execute_result"
    },
    {
     "data": {
      "image/png": "[encoded data removed]",
      "text/plain": [
       "<Figure size 1200x800 with 1 Axes>"
      ]
     },
     "metadata": {},
     "output_type": "display_data"
    }
   ],
   "source": [
    "loss_df = pd.DataFrame(history.history)\n",
    "loss_df.plot(figsize=(12,8))"
   ]
  },
  {
   "cell_type": "code",
   "execution_count": 365,
   "metadata": {
    "execution": {
     "iopub.execute_input": "2023-04-16T02:07:41.319360Z",
     "iopub.status.busy": "2023-04-16T02:07:41.318969Z",
     "iopub.status.idle": "2023-04-16T02:07:41.348220Z",
     "shell.execute_reply": "2023-04-16T02:07:41.346984Z",
     "shell.execute_reply.started": "2023-04-16T02:07:41.319320Z"
    }
   },
   "outputs": [
    {
     "data": {
      "text/html": [
       "<div>\n",
       "<style scoped>\n",
       "    .dataframe tbody tr th:only-of-type {\n",
       "        vertical-align: middle;\n",
       "    }\n",
       "\n",
       "    .dataframe tbody tr th {\n",
       "        vertical-align: top;\n",
       "    }\n",
       "\n",
       "    .dataframe thead th {\n",
       "        text-align: right;\n",
       "    }\n",
       "</style>\n",
       "<table border=\"1\" class=\"dataframe\">\n",
       "  <thead>\n",
       "    <tr style=\"text-align: right;\">\n",
       "      <th></th>\n",
       "      <th>cont1</th>\n",
       "      <th>cont2</th>\n",
       "      <th>cont3</th>\n",
       "      <th>cont4</th>\n",
       "      <th>cont5</th>\n",
       "      <th>cont6</th>\n",
       "      <th>cont7</th>\n",
       "      <th>cont8</th>\n",
       "      <th>cont9</th>\n",
       "      <th>cont10</th>\n",
       "      <th>cont11</th>\n",
       "      <th>cont12</th>\n",
       "      <th>cont13</th>\n",
       "      <th>cont14</th>\n",
       "    </tr>\n",
       "  </thead>\n",
       "  <tbody>\n",
       "    <tr>\n",
       "      <th>199370</th>\n",
       "      <td>0.819422</td>\n",
       "      <td>2.78184</td>\n",
       "      <td>14.575157</td>\n",
       "      <td>0.889993</td>\n",
       "      <td>0.285194</td>\n",
       "      <td>0.857274</td>\n",
       "      <td>2.150922</td>\n",
       "      <td>0.827684</td>\n",
       "      <td>0.852009</td>\n",
       "      <td>0.845716</td>\n",
       "      <td>1.670026</td>\n",
       "      <td>0.835212</td>\n",
       "      <td>0.927817</td>\n",
       "      <td>0.736528</td>\n",
       "    </tr>\n",
       "    <tr>\n",
       "      <th>147157</th>\n",
       "      <td>0.304499</td>\n",
       "      <td>1.72611</td>\n",
       "      <td>11.554430</td>\n",
       "      <td>0.396212</td>\n",
       "      <td>0.979672</td>\n",
       "      <td>0.336522</td>\n",
       "      <td>1.844207</td>\n",
       "      <td>0.682023</td>\n",
       "      <td>0.351994</td>\n",
       "      <td>0.414075</td>\n",
       "      <td>0.525467</td>\n",
       "      <td>0.280872</td>\n",
       "      <td>0.371829</td>\n",
       "      <td>0.265174</td>\n",
       "    </tr>\n",
       "  </tbody>\n",
       "</table>\n",
       "</div>"
      ],
      "text/plain": [
       "           cont1    cont2      cont3     cont4     cont5     cont6     cont7  \\\n",
       "199370  0.819422  2.78184  14.575157  0.889993  0.285194  0.857274  2.150922   \n",
       "147157  0.304499  1.72611  11.554430  0.396212  0.979672  0.336522  1.844207   \n",
       "\n",
       "           cont8     cont9    cont10    cont11    cont12    cont13    cont14  \n",
       "199370  0.827684  0.852009  0.845716  1.670026  0.835212  0.927817  0.736528  \n",
       "147157  0.682023  0.351994  0.414075  0.525467  0.280872  0.371829  0.265174  "
      ]
     },
     "execution_count": 365,
     "metadata": {},
     "output_type": "execute_result"
    }
   ],
   "source": [
    "x.sample(2)"
   ]
  },
  {
   "cell_type": "code",
   "execution_count": 366,
   "metadata": {
    "execution": {
     "iopub.execute_input": "2023-04-16T02:07:41.350656Z",
     "iopub.status.busy": "2023-04-16T02:07:41.349990Z",
     "iopub.status.idle": "2023-04-16T02:07:41.377032Z",
     "shell.execute_reply": "2023-04-16T02:07:41.375851Z",
     "shell.execute_reply.started": "2023-04-16T02:07:41.350616Z"
    }
   },
   "outputs": [
    {
     "data": {
      "text/html": [
       "<div>\n",
       "<style scoped>\n",
       "    .dataframe tbody tr th:only-of-type {\n",
       "        vertical-align: middle;\n",
       "    }\n",
       "\n",
       "    .dataframe tbody tr th {\n",
       "        vertical-align: top;\n",
       "    }\n",
       "\n",
       "    .dataframe thead th {\n",
       "        text-align: right;\n",
       "    }\n",
       "</style>\n",
       "<table border=\"1\" class=\"dataframe\">\n",
       "  <thead>\n",
       "    <tr style=\"text-align: right;\">\n",
       "      <th></th>\n",
       "      <th>id</th>\n",
       "      <th>cont1</th>\n",
       "      <th>cont2</th>\n",
       "      <th>cont3</th>\n",
       "      <th>cont4</th>\n",
       "      <th>cont5</th>\n",
       "      <th>cont6</th>\n",
       "      <th>cont7</th>\n",
       "      <th>cont8</th>\n",
       "      <th>cont9</th>\n",
       "      <th>cont10</th>\n",
       "      <th>cont11</th>\n",
       "      <th>cont12</th>\n",
       "      <th>cont13</th>\n",
       "      <th>cont14</th>\n",
       "    </tr>\n",
       "  </thead>\n",
       "  <tbody>\n",
       "    <tr>\n",
       "      <th>81156</th>\n",
       "      <td>203403</td>\n",
       "      <td>0.485879</td>\n",
       "      <td>0.555702</td>\n",
       "      <td>0.489573</td>\n",
       "      <td>0.531804</td>\n",
       "      <td>0.280309</td>\n",
       "      <td>0.436065</td>\n",
       "      <td>0.401953</td>\n",
       "      <td>0.353069</td>\n",
       "      <td>0.341093</td>\n",
       "      <td>0.442313</td>\n",
       "      <td>0.355427</td>\n",
       "      <td>0.307314</td>\n",
       "      <td>0.603623</td>\n",
       "      <td>0.821762</td>\n",
       "    </tr>\n",
       "    <tr>\n",
       "      <th>72590</th>\n",
       "      <td>181951</td>\n",
       "      <td>0.564502</td>\n",
       "      <td>0.203252</td>\n",
       "      <td>0.497014</td>\n",
       "      <td>0.297397</td>\n",
       "      <td>0.376792</td>\n",
       "      <td>0.331591</td>\n",
       "      <td>0.357879</td>\n",
       "      <td>0.301106</td>\n",
       "      <td>0.347244</td>\n",
       "      <td>0.380905</td>\n",
       "      <td>0.214418</td>\n",
       "      <td>0.283660</td>\n",
       "      <td>0.304293</td>\n",
       "      <td>0.366774</td>\n",
       "    </tr>\n",
       "  </tbody>\n",
       "</table>\n",
       "</div>"
      ],
      "text/plain": [
       "           id     cont1     cont2     cont3     cont4     cont5     cont6  \\\n",
       "81156  203403  0.485879  0.555702  0.489573  0.531804  0.280309  0.436065   \n",
       "72590  181951  0.564502  0.203252  0.497014  0.297397  0.376792  0.331591   \n",
       "\n",
       "          cont7     cont8     cont9    cont10    cont11    cont12    cont13  \\\n",
       "81156  0.401953  0.353069  0.341093  0.442313  0.355427  0.307314  0.603623   \n",
       "72590  0.357879  0.301106  0.347244  0.380905  0.214418  0.283660  0.304293   \n",
       "\n",
       "         cont14  \n",
       "81156  0.821762  \n",
       "72590  0.366774  "
      ]
     },
     "execution_count": 366,
     "metadata": {},
     "output_type": "execute_result"
    }
   ],
   "source": [
    "data.sample(2)"
   ]
  },
  {
   "cell_type": "code",
   "execution_count": 367,
   "metadata": {
    "execution": {
     "iopub.execute_input": "2023-04-16T02:07:41.379186Z",
     "iopub.status.busy": "2023-04-16T02:07:41.378603Z",
     "iopub.status.idle": "2023-04-16T02:07:53.049906Z",
     "shell.execute_reply": "2023-04-16T02:07:53.048706Z",
     "shell.execute_reply.started": "2023-04-16T02:07:41.379147Z"
    }
   },
   "outputs": [
    {
     "name": "stdout",
     "output_type": "stream",
     "text": [
      "6250/6250 [==============================] - 8s 1ms/step\n"
     ]
    }
   ],
   "source": [
    "tahmin = model.predict(data.drop(\"id\", axis=1))"
   ]
  },
  {
   "cell_type": "code",
   "execution_count": 368,
   "metadata": {
    "execution": {
     "iopub.execute_input": "2023-04-16T02:07:53.053106Z",
     "iopub.status.busy": "2023-04-16T02:07:53.052407Z",
     "iopub.status.idle": "2023-04-16T02:07:53.060360Z",
     "shell.execute_reply": "2023-04-16T02:07:53.058952Z",
     "shell.execute_reply.started": "2023-04-16T02:07:53.053063Z"
    }
   },
   "outputs": [
    {
     "data": {
      "text/plain": [
       "(200000, 200000)"
      ]
     },
     "execution_count": 368,
     "metadata": {},
     "output_type": "execute_result"
    }
   ],
   "source": [
    "len(tahmin), len(data)"
   ]
  },
  {
   "cell_type": "code",
   "execution_count": 369,
   "metadata": {
    "execution": {
     "iopub.execute_input": "2023-04-16T02:07:53.062280Z",
     "iopub.status.busy": "2023-04-16T02:07:53.061893Z",
     "iopub.status.idle": "2023-04-16T02:07:53.091058Z",
     "shell.execute_reply": "2023-04-16T02:07:53.089753Z",
     "shell.execute_reply.started": "2023-04-16T02:07:53.062245Z"
    }
   },
   "outputs": [
    {
     "data": {
      "text/html": [
       "<div>\n",
       "<style scoped>\n",
       "    .dataframe tbody tr th:only-of-type {\n",
       "        vertical-align: middle;\n",
       "    }\n",
       "\n",
       "    .dataframe tbody tr th {\n",
       "        vertical-align: top;\n",
       "    }\n",
       "\n",
       "    .dataframe thead th {\n",
       "        text-align: right;\n",
       "    }\n",
       "</style>\n",
       "<table border=\"1\" class=\"dataframe\">\n",
       "  <thead>\n",
       "    <tr style=\"text-align: right;\">\n",
       "      <th></th>\n",
       "      <th>id</th>\n",
       "      <th>cont1</th>\n",
       "      <th>cont2</th>\n",
       "      <th>cont3</th>\n",
       "      <th>cont4</th>\n",
       "      <th>cont5</th>\n",
       "      <th>cont6</th>\n",
       "      <th>cont7</th>\n",
       "      <th>cont8</th>\n",
       "      <th>cont9</th>\n",
       "      <th>cont10</th>\n",
       "      <th>cont11</th>\n",
       "      <th>cont12</th>\n",
       "      <th>cont13</th>\n",
       "      <th>cont14</th>\n",
       "      <th>target</th>\n",
       "    </tr>\n",
       "  </thead>\n",
       "  <tbody>\n",
       "    <tr>\n",
       "      <th>0</th>\n",
       "      <td>0</td>\n",
       "      <td>0.353600</td>\n",
       "      <td>0.738780</td>\n",
       "      <td>0.600939</td>\n",
       "      <td>0.293377</td>\n",
       "      <td>0.285691</td>\n",
       "      <td>0.458006</td>\n",
       "      <td>0.620704</td>\n",
       "      <td>0.422249</td>\n",
       "      <td>0.369203</td>\n",
       "      <td>0.435727</td>\n",
       "      <td>0.550540</td>\n",
       "      <td>0.699134</td>\n",
       "      <td>0.286864</td>\n",
       "      <td>0.364515</td>\n",
       "      <td>7.886174</td>\n",
       "    </tr>\n",
       "    <tr>\n",
       "      <th>1</th>\n",
       "      <td>2</td>\n",
       "      <td>0.907222</td>\n",
       "      <td>0.189756</td>\n",
       "      <td>0.215531</td>\n",
       "      <td>0.869915</td>\n",
       "      <td>0.301333</td>\n",
       "      <td>0.528958</td>\n",
       "      <td>0.390351</td>\n",
       "      <td>0.521112</td>\n",
       "      <td>0.794779</td>\n",
       "      <td>0.798580</td>\n",
       "      <td>0.446475</td>\n",
       "      <td>0.449037</td>\n",
       "      <td>0.916964</td>\n",
       "      <td>0.513002</td>\n",
       "      <td>7.886174</td>\n",
       "    </tr>\n",
       "    <tr>\n",
       "      <th>2</th>\n",
       "      <td>6</td>\n",
       "      <td>0.179287</td>\n",
       "      <td>0.355353</td>\n",
       "      <td>0.623972</td>\n",
       "      <td>0.437812</td>\n",
       "      <td>0.282476</td>\n",
       "      <td>0.320826</td>\n",
       "      <td>0.386789</td>\n",
       "      <td>0.776422</td>\n",
       "      <td>0.222268</td>\n",
       "      <td>0.229102</td>\n",
       "      <td>0.211913</td>\n",
       "      <td>0.222651</td>\n",
       "      <td>0.327164</td>\n",
       "      <td>0.827941</td>\n",
       "      <td>7.886174</td>\n",
       "    </tr>\n",
       "    <tr>\n",
       "      <th>3</th>\n",
       "      <td>7</td>\n",
       "      <td>0.359385</td>\n",
       "      <td>0.181049</td>\n",
       "      <td>0.551368</td>\n",
       "      <td>0.206386</td>\n",
       "      <td>0.280763</td>\n",
       "      <td>0.482076</td>\n",
       "      <td>0.506677</td>\n",
       "      <td>0.362793</td>\n",
       "      <td>0.379737</td>\n",
       "      <td>0.345686</td>\n",
       "      <td>0.445276</td>\n",
       "      <td>0.518485</td>\n",
       "      <td>0.299028</td>\n",
       "      <td>0.598166</td>\n",
       "      <td>7.886174</td>\n",
       "    </tr>\n",
       "    <tr>\n",
       "      <th>4</th>\n",
       "      <td>10</td>\n",
       "      <td>0.335791</td>\n",
       "      <td>0.682607</td>\n",
       "      <td>0.676481</td>\n",
       "      <td>0.219465</td>\n",
       "      <td>0.282861</td>\n",
       "      <td>0.581721</td>\n",
       "      <td>0.748639</td>\n",
       "      <td>0.350158</td>\n",
       "      <td>0.448915</td>\n",
       "      <td>0.506878</td>\n",
       "      <td>0.817721</td>\n",
       "      <td>0.805895</td>\n",
       "      <td>0.790591</td>\n",
       "      <td>0.249275</td>\n",
       "      <td>7.886174</td>\n",
       "    </tr>\n",
       "  </tbody>\n",
       "</table>\n",
       "</div>"
      ],
      "text/plain": [
       "   id     cont1     cont2     cont3     cont4     cont5     cont6     cont7  \\\n",
       "0   0  0.353600  0.738780  0.600939  0.293377  0.285691  0.458006  0.620704   \n",
       "1   2  0.907222  0.189756  0.215531  0.869915  0.301333  0.528958  0.390351   \n",
       "2   6  0.179287  0.355353  0.623972  0.437812  0.282476  0.320826  0.386789   \n",
       "3   7  0.359385  0.181049  0.551368  0.206386  0.280763  0.482076  0.506677   \n",
       "4  10  0.335791  0.682607  0.676481  0.219465  0.282861  0.581721  0.748639   \n",
       "\n",
       "      cont8     cont9    cont10    cont11    cont12    cont13    cont14  \\\n",
       "0  0.422249  0.369203  0.435727  0.550540  0.699134  0.286864  0.364515   \n",
       "1  0.521112  0.794779  0.798580  0.446475  0.449037  0.916964  0.513002   \n",
       "2  0.776422  0.222268  0.229102  0.211913  0.222651  0.327164  0.827941   \n",
       "3  0.362793  0.379737  0.345686  0.445276  0.518485  0.299028  0.598166   \n",
       "4  0.350158  0.448915  0.506878  0.817721  0.805895  0.790591  0.249275   \n",
       "\n",
       "     target  \n",
       "0  7.886174  \n",
       "1  7.886174  \n",
       "2  7.886174  \n",
       "3  7.886174  \n",
       "4  7.886174  "
      ]
     },
     "execution_count": 369,
     "metadata": {},
     "output_type": "execute_result"
    }
   ],
   "source": [
    "data[\"target\"] = tahmin\n",
    "data.head()"
   ]
  },
  {
   "cell_type": "code",
   "execution_count": 370,
   "metadata": {
    "execution": {
     "iopub.execute_input": "2023-04-16T02:07:53.092962Z",
     "iopub.status.busy": "2023-04-16T02:07:53.092541Z",
     "iopub.status.idle": "2023-04-16T02:07:53.108946Z",
     "shell.execute_reply": "2023-04-16T02:07:53.107662Z",
     "shell.execute_reply.started": "2023-04-16T02:07:53.092926Z"
    }
   },
   "outputs": [
    {
     "data": {
      "text/html": [
       "<div>\n",
       "<style scoped>\n",
       "    .dataframe tbody tr th:only-of-type {\n",
       "        vertical-align: middle;\n",
       "    }\n",
       "\n",
       "    .dataframe tbody tr th {\n",
       "        vertical-align: top;\n",
       "    }\n",
       "\n",
       "    .dataframe thead th {\n",
       "        text-align: right;\n",
       "    }\n",
       "</style>\n",
       "<table border=\"1\" class=\"dataframe\">\n",
       "  <thead>\n",
       "    <tr style=\"text-align: right;\">\n",
       "      <th></th>\n",
       "      <th>id</th>\n",
       "      <th>target</th>\n",
       "    </tr>\n",
       "  </thead>\n",
       "  <tbody>\n",
       "    <tr>\n",
       "      <th>0</th>\n",
       "      <td>0</td>\n",
       "      <td>7.886174</td>\n",
       "    </tr>\n",
       "    <tr>\n",
       "      <th>1</th>\n",
       "      <td>2</td>\n",
       "      <td>7.886174</td>\n",
       "    </tr>\n",
       "    <tr>\n",
       "      <th>2</th>\n",
       "      <td>6</td>\n",
       "      <td>7.886174</td>\n",
       "    </tr>\n",
       "    <tr>\n",
       "      <th>3</th>\n",
       "      <td>7</td>\n",
       "      <td>7.886174</td>\n",
       "    </tr>\n",
       "    <tr>\n",
       "      <th>4</th>\n",
       "      <td>10</td>\n",
       "      <td>7.886174</td>\n",
       "    </tr>\n",
       "  </tbody>\n",
       "</table>\n",
       "</div>"
      ],
      "text/plain": [
       "   id    target\n",
       "0   0  7.886174\n",
       "1   2  7.886174\n",
       "2   6  7.886174\n",
       "3   7  7.886174\n",
       "4  10  7.886174"
      ]
     },
     "execution_count": 370,
     "metadata": {},
     "output_type": "execute_result"
    }
   ],
   "source": [
    "my_pred = data[[\"id\",\"target\"]]\n",
    "my_pred.head()"
   ]
  },
  {
   "cell_type": "code",
   "execution_count": 371,
   "metadata": {
    "execution": {
     "iopub.execute_input": "2023-04-16T02:07:53.111200Z",
     "iopub.status.busy": "2023-04-16T02:07:53.110630Z",
     "iopub.status.idle": "2023-04-16T02:07:53.464893Z",
     "shell.execute_reply": "2023-04-16T02:07:53.463766Z",
     "shell.execute_reply.started": "2023-04-16T02:07:53.111147Z"
    }
   },
   "outputs": [],
   "source": [
    "my_pred.to_csv(\"pred2.csv\", index = False)"
   ]
  },
  {
   "cell_type": "markdown",
   "metadata": {},
   "source": [
    "# Korelasyonu 0 ve üzeri olan sütunları alıp tekrar test edelim bakalım sonuçta bir düzelme olacak mı?"
   ]
  },
  {
   "cell_type": "code",
   "execution_count": 372,
   "metadata": {
    "execution": {
     "iopub.execute_input": "2023-04-16T02:07:53.467008Z",
     "iopub.status.busy": "2023-04-16T02:07:53.466512Z",
     "iopub.status.idle": "2023-04-16T02:07:53.476228Z",
     "shell.execute_reply": "2023-04-16T02:07:53.474680Z",
     "shell.execute_reply.started": "2023-04-16T02:07:53.466958Z"
    }
   },
   "outputs": [
    {
     "data": {
      "text/plain": [
       "['cont7',\n",
       " 'cont2',\n",
       " 'cont3',\n",
       " 'cont11',\n",
       " 'cont12',\n",
       " 'cont6',\n",
       " 'cont8',\n",
       " 'cont4',\n",
       " 'id',\n",
       " 'target']"
      ]
     },
     "execution_count": 372,
     "metadata": {},
     "output_type": "execute_result"
    }
   ],
   "source": [
    "azizo"
   ]
  },
  {
   "cell_type": "code",
   "execution_count": 373,
   "metadata": {
    "execution": {
     "iopub.execute_input": "2023-04-16T02:07:53.478440Z",
     "iopub.status.busy": "2023-04-16T02:07:53.477932Z",
     "iopub.status.idle": "2023-04-16T02:07:53.496313Z",
     "shell.execute_reply": "2023-04-16T02:07:53.495240Z",
     "shell.execute_reply.started": "2023-04-16T02:07:53.478386Z"
    }
   },
   "outputs": [],
   "source": [
    "df = df[azizo]\n",
    "data = data[azizo]"
   ]
  },
  {
   "cell_type": "code",
   "execution_count": 374,
   "metadata": {
    "execution": {
     "iopub.execute_input": "2023-04-16T02:07:53.498228Z",
     "iopub.status.busy": "2023-04-16T02:07:53.497850Z",
     "iopub.status.idle": "2023-04-16T02:07:53.520910Z",
     "shell.execute_reply": "2023-04-16T02:07:53.519624Z",
     "shell.execute_reply.started": "2023-04-16T02:07:53.498193Z"
    }
   },
   "outputs": [
    {
     "data": {
      "text/html": [
       "<div>\n",
       "<style scoped>\n",
       "    .dataframe tbody tr th:only-of-type {\n",
       "        vertical-align: middle;\n",
       "    }\n",
       "\n",
       "    .dataframe tbody tr th {\n",
       "        vertical-align: top;\n",
       "    }\n",
       "\n",
       "    .dataframe thead th {\n",
       "        text-align: right;\n",
       "    }\n",
       "</style>\n",
       "<table border=\"1\" class=\"dataframe\">\n",
       "  <thead>\n",
       "    <tr style=\"text-align: right;\">\n",
       "      <th></th>\n",
       "      <th>cont7</th>\n",
       "      <th>cont2</th>\n",
       "      <th>cont3</th>\n",
       "      <th>cont11</th>\n",
       "      <th>cont12</th>\n",
       "      <th>cont6</th>\n",
       "      <th>cont8</th>\n",
       "      <th>cont4</th>\n",
       "      <th>id</th>\n",
       "      <th>target</th>\n",
       "    </tr>\n",
       "  </thead>\n",
       "  <tbody>\n",
       "    <tr>\n",
       "      <th>0</th>\n",
       "      <td>3.404000</td>\n",
       "      <td>3.466263</td>\n",
       "      <td>22.267663</td>\n",
       "      <td>1.788604</td>\n",
       "      <td>0.866772</td>\n",
       "      <td>0.855953</td>\n",
       "      <td>0.285542</td>\n",
       "      <td>0.291791</td>\n",
       "      <td>1</td>\n",
       "      <td>7.243043</td>\n",
       "    </tr>\n",
       "    <tr>\n",
       "      <th>1</th>\n",
       "      <td>2.263856</td>\n",
       "      <td>2.121953</td>\n",
       "      <td>14.462880</td>\n",
       "      <td>0.874843</td>\n",
       "      <td>0.434971</td>\n",
       "      <td>0.449805</td>\n",
       "      <td>0.580748</td>\n",
       "      <td>0.501149</td>\n",
       "      <td>3</td>\n",
       "      <td>8.203331</td>\n",
       "    </tr>\n",
       "    <tr>\n",
       "      <th>2</th>\n",
       "      <td>1.467160</td>\n",
       "      <td>1.588886</td>\n",
       "      <td>9.936972</td>\n",
       "      <td>1.244715</td>\n",
       "      <td>0.677708</td>\n",
       "      <td>0.829175</td>\n",
       "      <td>0.558771</td>\n",
       "      <td>0.293408</td>\n",
       "      <td>4</td>\n",
       "      <td>7.776091</td>\n",
       "    </tr>\n",
       "    <tr>\n",
       "      <th>3</th>\n",
       "      <td>1.825827</td>\n",
       "      <td>1.859498</td>\n",
       "      <td>12.494148</td>\n",
       "      <td>1.587737</td>\n",
       "      <td>0.818143</td>\n",
       "      <td>0.785108</td>\n",
       "      <td>0.823267</td>\n",
       "      <td>0.726104</td>\n",
       "      <td>5</td>\n",
       "      <td>6.957716</td>\n",
       "    </tr>\n",
       "    <tr>\n",
       "      <th>4</th>\n",
       "      <td>1.816697</td>\n",
       "      <td>2.809620</td>\n",
       "      <td>12.867329</td>\n",
       "      <td>1.884039</td>\n",
       "      <td>0.900464</td>\n",
       "      <td>0.830131</td>\n",
       "      <td>0.604157</td>\n",
       "      <td>0.880214</td>\n",
       "      <td>8</td>\n",
       "      <td>7.951046</td>\n",
       "    </tr>\n",
       "  </tbody>\n",
       "</table>\n",
       "</div>"
      ],
      "text/plain": [
       "      cont7     cont2      cont3    cont11    cont12     cont6     cont8  \\\n",
       "0  3.404000  3.466263  22.267663  1.788604  0.866772  0.855953  0.285542   \n",
       "1  2.263856  2.121953  14.462880  0.874843  0.434971  0.449805  0.580748   \n",
       "2  1.467160  1.588886   9.936972  1.244715  0.677708  0.829175  0.558771   \n",
       "3  1.825827  1.859498  12.494148  1.587737  0.818143  0.785108  0.823267   \n",
       "4  1.816697  2.809620  12.867329  1.884039  0.900464  0.830131  0.604157   \n",
       "\n",
       "      cont4  id    target  \n",
       "0  0.291791   1  7.243043  \n",
       "1  0.501149   3  8.203331  \n",
       "2  0.293408   4  7.776091  \n",
       "3  0.726104   5  6.957716  \n",
       "4  0.880214   8  7.951046  "
      ]
     },
     "execution_count": 374,
     "metadata": {},
     "output_type": "execute_result"
    }
   ],
   "source": [
    "df.head()"
   ]
  },
  {
   "cell_type": "code",
   "execution_count": 375,
   "metadata": {
    "execution": {
     "iopub.execute_input": "2023-04-16T02:07:53.522409Z",
     "iopub.status.busy": "2023-04-16T02:07:53.522100Z",
     "iopub.status.idle": "2023-04-16T02:07:53.543748Z",
     "shell.execute_reply": "2023-04-16T02:07:53.542804Z",
     "shell.execute_reply.started": "2023-04-16T02:07:53.522378Z"
    }
   },
   "outputs": [
    {
     "data": {
      "text/html": [
       "<div>\n",
       "<style scoped>\n",
       "    .dataframe tbody tr th:only-of-type {\n",
       "        vertical-align: middle;\n",
       "    }\n",
       "\n",
       "    .dataframe tbody tr th {\n",
       "        vertical-align: top;\n",
       "    }\n",
       "\n",
       "    .dataframe thead th {\n",
       "        text-align: right;\n",
       "    }\n",
       "</style>\n",
       "<table border=\"1\" class=\"dataframe\">\n",
       "  <thead>\n",
       "    <tr style=\"text-align: right;\">\n",
       "      <th></th>\n",
       "      <th>cont7</th>\n",
       "      <th>cont2</th>\n",
       "      <th>cont3</th>\n",
       "      <th>cont11</th>\n",
       "      <th>cont12</th>\n",
       "      <th>cont6</th>\n",
       "      <th>cont8</th>\n",
       "      <th>cont4</th>\n",
       "      <th>id</th>\n",
       "      <th>target</th>\n",
       "    </tr>\n",
       "  </thead>\n",
       "  <tbody>\n",
       "    <tr>\n",
       "      <th>0</th>\n",
       "      <td>0.620704</td>\n",
       "      <td>0.738780</td>\n",
       "      <td>0.600939</td>\n",
       "      <td>0.550540</td>\n",
       "      <td>0.699134</td>\n",
       "      <td>0.458006</td>\n",
       "      <td>0.422249</td>\n",
       "      <td>0.293377</td>\n",
       "      <td>0</td>\n",
       "      <td>7.886174</td>\n",
       "    </tr>\n",
       "    <tr>\n",
       "      <th>1</th>\n",
       "      <td>0.390351</td>\n",
       "      <td>0.189756</td>\n",
       "      <td>0.215531</td>\n",
       "      <td>0.446475</td>\n",
       "      <td>0.449037</td>\n",
       "      <td>0.528958</td>\n",
       "      <td>0.521112</td>\n",
       "      <td>0.869915</td>\n",
       "      <td>2</td>\n",
       "      <td>7.886174</td>\n",
       "    </tr>\n",
       "    <tr>\n",
       "      <th>2</th>\n",
       "      <td>0.386789</td>\n",
       "      <td>0.355353</td>\n",
       "      <td>0.623972</td>\n",
       "      <td>0.211913</td>\n",
       "      <td>0.222651</td>\n",
       "      <td>0.320826</td>\n",
       "      <td>0.776422</td>\n",
       "      <td>0.437812</td>\n",
       "      <td>6</td>\n",
       "      <td>7.886174</td>\n",
       "    </tr>\n",
       "    <tr>\n",
       "      <th>3</th>\n",
       "      <td>0.506677</td>\n",
       "      <td>0.181049</td>\n",
       "      <td>0.551368</td>\n",
       "      <td>0.445276</td>\n",
       "      <td>0.518485</td>\n",
       "      <td>0.482076</td>\n",
       "      <td>0.362793</td>\n",
       "      <td>0.206386</td>\n",
       "      <td>7</td>\n",
       "      <td>7.886174</td>\n",
       "    </tr>\n",
       "    <tr>\n",
       "      <th>4</th>\n",
       "      <td>0.748639</td>\n",
       "      <td>0.682607</td>\n",
       "      <td>0.676481</td>\n",
       "      <td>0.817721</td>\n",
       "      <td>0.805895</td>\n",
       "      <td>0.581721</td>\n",
       "      <td>0.350158</td>\n",
       "      <td>0.219465</td>\n",
       "      <td>10</td>\n",
       "      <td>7.886174</td>\n",
       "    </tr>\n",
       "  </tbody>\n",
       "</table>\n",
       "</div>"
      ],
      "text/plain": [
       "      cont7     cont2     cont3    cont11    cont12     cont6     cont8  \\\n",
       "0  0.620704  0.738780  0.600939  0.550540  0.699134  0.458006  0.422249   \n",
       "1  0.390351  0.189756  0.215531  0.446475  0.449037  0.528958  0.521112   \n",
       "2  0.386789  0.355353  0.623972  0.211913  0.222651  0.320826  0.776422   \n",
       "3  0.506677  0.181049  0.551368  0.445276  0.518485  0.482076  0.362793   \n",
       "4  0.748639  0.682607  0.676481  0.817721  0.805895  0.581721  0.350158   \n",
       "\n",
       "      cont4  id    target  \n",
       "0  0.293377   0  7.886174  \n",
       "1  0.869915   2  7.886174  \n",
       "2  0.437812   6  7.886174  \n",
       "3  0.206386   7  7.886174  \n",
       "4  0.219465  10  7.886174  "
      ]
     },
     "execution_count": 375,
     "metadata": {},
     "output_type": "execute_result"
    }
   ],
   "source": [
    "data.head()"
   ]
  },
  {
   "cell_type": "code",
   "execution_count": 376,
   "metadata": {
    "execution": {
     "iopub.execute_input": "2023-04-16T02:07:53.545456Z",
     "iopub.status.busy": "2023-04-16T02:07:53.545105Z",
     "iopub.status.idle": "2023-04-16T02:07:53.557821Z",
     "shell.execute_reply": "2023-04-16T02:07:53.556541Z",
     "shell.execute_reply.started": "2023-04-16T02:07:53.545422Z"
    }
   },
   "outputs": [],
   "source": [
    "x = df.drop([\"id\",\"target\"], axis=1)\n",
    "y = df[[\"target\"]]"
   ]
  },
  {
   "cell_type": "code",
   "execution_count": 377,
   "metadata": {
    "execution": {
     "iopub.execute_input": "2023-04-16T02:07:53.560659Z",
     "iopub.status.busy": "2023-04-16T02:07:53.559674Z",
     "iopub.status.idle": "2023-04-16T02:07:53.578122Z",
     "shell.execute_reply": "2023-04-16T02:07:53.577117Z",
     "shell.execute_reply.started": "2023-04-16T02:07:53.560612Z"
    }
   },
   "outputs": [
    {
     "data": {
      "text/html": [
       "<div>\n",
       "<style scoped>\n",
       "    .dataframe tbody tr th:only-of-type {\n",
       "        vertical-align: middle;\n",
       "    }\n",
       "\n",
       "    .dataframe tbody tr th {\n",
       "        vertical-align: top;\n",
       "    }\n",
       "\n",
       "    .dataframe thead th {\n",
       "        text-align: right;\n",
       "    }\n",
       "</style>\n",
       "<table border=\"1\" class=\"dataframe\">\n",
       "  <thead>\n",
       "    <tr style=\"text-align: right;\">\n",
       "      <th></th>\n",
       "      <th>cont7</th>\n",
       "      <th>cont2</th>\n",
       "      <th>cont3</th>\n",
       "      <th>cont11</th>\n",
       "      <th>cont12</th>\n",
       "      <th>cont6</th>\n",
       "      <th>cont8</th>\n",
       "      <th>cont4</th>\n",
       "    </tr>\n",
       "  </thead>\n",
       "  <tbody>\n",
       "    <tr>\n",
       "      <th>0</th>\n",
       "      <td>3.404000</td>\n",
       "      <td>3.466263</td>\n",
       "      <td>22.267663</td>\n",
       "      <td>1.788604</td>\n",
       "      <td>0.866772</td>\n",
       "      <td>0.855953</td>\n",
       "      <td>0.285542</td>\n",
       "      <td>0.291791</td>\n",
       "    </tr>\n",
       "    <tr>\n",
       "      <th>1</th>\n",
       "      <td>2.263856</td>\n",
       "      <td>2.121953</td>\n",
       "      <td>14.462880</td>\n",
       "      <td>0.874843</td>\n",
       "      <td>0.434971</td>\n",
       "      <td>0.449805</td>\n",
       "      <td>0.580748</td>\n",
       "      <td>0.501149</td>\n",
       "    </tr>\n",
       "    <tr>\n",
       "      <th>2</th>\n",
       "      <td>1.467160</td>\n",
       "      <td>1.588886</td>\n",
       "      <td>9.936972</td>\n",
       "      <td>1.244715</td>\n",
       "      <td>0.677708</td>\n",
       "      <td>0.829175</td>\n",
       "      <td>0.558771</td>\n",
       "      <td>0.293408</td>\n",
       "    </tr>\n",
       "  </tbody>\n",
       "</table>\n",
       "</div>"
      ],
      "text/plain": [
       "      cont7     cont2      cont3    cont11    cont12     cont6     cont8  \\\n",
       "0  3.404000  3.466263  22.267663  1.788604  0.866772  0.855953  0.285542   \n",
       "1  2.263856  2.121953  14.462880  0.874843  0.434971  0.449805  0.580748   \n",
       "2  1.467160  1.588886   9.936972  1.244715  0.677708  0.829175  0.558771   \n",
       "\n",
       "      cont4  \n",
       "0  0.291791  \n",
       "1  0.501149  \n",
       "2  0.293408  "
      ]
     },
     "execution_count": 377,
     "metadata": {},
     "output_type": "execute_result"
    }
   ],
   "source": [
    "x.head(3)"
   ]
  },
  {
   "cell_type": "code",
   "execution_count": 378,
   "metadata": {
    "execution": {
     "iopub.execute_input": "2023-04-16T02:07:53.580217Z",
     "iopub.status.busy": "2023-04-16T02:07:53.579597Z",
     "iopub.status.idle": "2023-04-16T02:07:53.590732Z",
     "shell.execute_reply": "2023-04-16T02:07:53.589685Z",
     "shell.execute_reply.started": "2023-04-16T02:07:53.580178Z"
    }
   },
   "outputs": [
    {
     "data": {
      "text/html": [
       "<div>\n",
       "<style scoped>\n",
       "    .dataframe tbody tr th:only-of-type {\n",
       "        vertical-align: middle;\n",
       "    }\n",
       "\n",
       "    .dataframe tbody tr th {\n",
       "        vertical-align: top;\n",
       "    }\n",
       "\n",
       "    .dataframe thead th {\n",
       "        text-align: right;\n",
       "    }\n",
       "</style>\n",
       "<table border=\"1\" class=\"dataframe\">\n",
       "  <thead>\n",
       "    <tr style=\"text-align: right;\">\n",
       "      <th></th>\n",
       "      <th>target</th>\n",
       "    </tr>\n",
       "  </thead>\n",
       "  <tbody>\n",
       "    <tr>\n",
       "      <th>0</th>\n",
       "      <td>7.243043</td>\n",
       "    </tr>\n",
       "    <tr>\n",
       "      <th>1</th>\n",
       "      <td>8.203331</td>\n",
       "    </tr>\n",
       "    <tr>\n",
       "      <th>2</th>\n",
       "      <td>7.776091</td>\n",
       "    </tr>\n",
       "  </tbody>\n",
       "</table>\n",
       "</div>"
      ],
      "text/plain": [
       "     target\n",
       "0  7.243043\n",
       "1  8.203331\n",
       "2  7.776091"
      ]
     },
     "execution_count": 378,
     "metadata": {},
     "output_type": "execute_result"
    }
   ],
   "source": [
    "y.head(3)"
   ]
  },
  {
   "cell_type": "code",
   "execution_count": 379,
   "metadata": {
    "execution": {
     "iopub.execute_input": "2023-04-16T02:07:53.592988Z",
     "iopub.status.busy": "2023-04-16T02:07:53.592230Z",
     "iopub.status.idle": "2023-04-16T02:07:53.645246Z",
     "shell.execute_reply": "2023-04-16T02:07:53.643998Z",
     "shell.execute_reply.started": "2023-04-16T02:07:53.592944Z"
    }
   },
   "outputs": [],
   "source": [
    "x_train, x_test, y_train, y_test = train_test_split(x,y, train_size=0.80, random_state=42)"
   ]
  },
  {
   "cell_type": "code",
   "execution_count": 380,
   "metadata": {
    "execution": {
     "iopub.execute_input": "2023-04-16T02:07:53.647486Z",
     "iopub.status.busy": "2023-04-16T02:07:53.646974Z",
     "iopub.status.idle": "2023-04-16T02:07:53.681242Z",
     "shell.execute_reply": "2023-04-16T02:07:53.679961Z",
     "shell.execute_reply.started": "2023-04-16T02:07:53.647432Z"
    }
   },
   "outputs": [],
   "source": [
    "model=Sequential()\n",
    "model.add(Dense(16,activation='relu'))\n",
    "model.add(Dense(64,activation='relu'))\n",
    "model.add(Dense(128,activation='relu'))\n",
    "model.add(Dense(1024,activation='relu'))\n",
    "model.add(Dense(256,activation='relu'))\n",
    "model.add(Dense(64,activation='relu'))\n",
    "model.add(Dense(16,activation='relu'))\n",
    "model.add(Dense(1)) # regresyonda burayı 1 seçiyoruz activation yazmıyoruz\n",
    "model.compile(loss=\"mse\",optimizer='adam')"
   ]
  },
  {
   "cell_type": "code",
   "execution_count": 381,
   "metadata": {
    "execution": {
     "iopub.execute_input": "2023-04-16T02:07:53.682628Z",
     "iopub.status.busy": "2023-04-16T02:07:53.682290Z",
     "iopub.status.idle": "2023-04-16T03:04:37.444148Z",
     "shell.execute_reply": "2023-04-16T03:04:37.442631Z",
     "shell.execute_reply.started": "2023-04-16T02:07:53.682596Z"
    }
   },
   "outputs": [
    {
     "name": "stdout",
     "output_type": "stream",
     "text": [
      "Epoch 1/100\n",
      "3750/3750 [==============================] - 32s 8ms/step - loss: 0.7684 - val_loss: 0.5472\n",
      "Epoch 2/100\n",
      "3750/3750 [==============================] - 35s 9ms/step - loss: 0.5580 - val_loss: 0.6139\n",
      "Epoch 3/100\n",
      "3750/3750 [==============================] - 31s 8ms/step - loss: 0.5486 - val_loss: 0.5334\n",
      "Epoch 4/100\n",
      "3750/3750 [==============================] - 31s 8ms/step - loss: 0.5430 - val_loss: 0.5421\n",
      "Epoch 5/100\n",
      "3750/3750 [==============================] - 32s 9ms/step - loss: 0.5416 - val_loss: 0.5259\n",
      "Epoch 6/100\n",
      "3750/3750 [==============================] - 31s 8ms/step - loss: 0.5402 - val_loss: 0.5293\n",
      "Epoch 7/100\n",
      "3750/3750 [==============================] - 32s 8ms/step - loss: 0.5405 - val_loss: 0.5408\n",
      "Epoch 8/100\n",
      "3750/3750 [==============================] - 30s 8ms/step - loss: 0.5394 - val_loss: 0.5853\n",
      "Epoch 9/100\n",
      "3750/3750 [==============================] - 31s 8ms/step - loss: 0.5377 - val_loss: 0.5383\n",
      "Epoch 10/100\n",
      "3750/3750 [==============================] - 32s 8ms/step - loss: 0.5374 - val_loss: 0.5273\n",
      "Epoch 11/100\n",
      "3750/3750 [==============================] - 30s 8ms/step - loss: 0.5369 - val_loss: 0.5422\n",
      "Epoch 12/100\n",
      "3750/3750 [==============================] - 30s 8ms/step - loss: 0.5354 - val_loss: 0.5234\n",
      "Epoch 13/100\n",
      "3750/3750 [==============================] - 31s 8ms/step - loss: 0.5348 - val_loss: 0.5321\n",
      "Epoch 14/100\n",
      "3750/3750 [==============================] - 31s 8ms/step - loss: 0.5346 - val_loss: 0.5335\n",
      "Epoch 15/100\n",
      "3750/3750 [==============================] - 30s 8ms/step - loss: 0.5344 - val_loss: 0.5288\n",
      "Epoch 16/100\n",
      "3750/3750 [==============================] - 30s 8ms/step - loss: 0.5346 - val_loss: 0.5230\n",
      "Epoch 17/100\n",
      "3750/3750 [==============================] - 29s 8ms/step - loss: 0.5340 - val_loss: 0.5229\n",
      "Epoch 18/100\n",
      "3750/3750 [==============================] - 29s 8ms/step - loss: 0.5332 - val_loss: 0.5237\n",
      "Epoch 19/100\n",
      "3750/3750 [==============================] - 30s 8ms/step - loss: 0.5329 - val_loss: 0.5279\n",
      "Epoch 20/100\n",
      "3750/3750 [==============================] - 29s 8ms/step - loss: 0.5324 - val_loss: 0.5231\n",
      "Epoch 21/100\n",
      "3750/3750 [==============================] - 29s 8ms/step - loss: 0.5325 - val_loss: 0.5261\n",
      "Epoch 22/100\n",
      "3750/3750 [==============================] - 30s 8ms/step - loss: 0.5319 - val_loss: 0.5228\n",
      "Epoch 23/100\n",
      "3750/3750 [==============================] - 30s 8ms/step - loss: 0.5321 - val_loss: 0.5220\n",
      "Epoch 24/100\n",
      "3750/3750 [==============================] - 34s 9ms/step - loss: 0.5320 - val_loss: 0.5350\n",
      "Epoch 25/100\n",
      "3750/3750 [==============================] - 34s 9ms/step - loss: 0.5314 - val_loss: 0.5266\n",
      "Epoch 26/100\n",
      "3750/3750 [==============================] - 31s 8ms/step - loss: 0.5310 - val_loss: 0.5230\n",
      "Epoch 27/100\n",
      "3750/3750 [==============================] - 30s 8ms/step - loss: 0.5309 - val_loss: 0.5270\n",
      "Epoch 28/100\n",
      "3750/3750 [==============================] - 31s 8ms/step - loss: 0.5307 - val_loss: 0.5222\n",
      "Epoch 29/100\n",
      "3750/3750 [==============================] - 32s 8ms/step - loss: 0.5311 - val_loss: 0.5534\n",
      "Epoch 30/100\n",
      "3750/3750 [==============================] - 31s 8ms/step - loss: 0.5301 - val_loss: 0.5219\n",
      "Epoch 31/100\n",
      "3750/3750 [==============================] - 30s 8ms/step - loss: 0.5298 - val_loss: 0.5212\n",
      "Epoch 32/100\n",
      "3750/3750 [==============================] - 30s 8ms/step - loss: 0.5293 - val_loss: 0.5211\n",
      "Epoch 33/100\n",
      "3750/3750 [==============================] - 34s 9ms/step - loss: 0.5291 - val_loss: 0.5260\n",
      "Epoch 34/100\n",
      "3750/3750 [==============================] - 35s 9ms/step - loss: 0.5295 - val_loss: 0.5255\n",
      "Epoch 35/100\n",
      "3750/3750 [==============================] - 35s 9ms/step - loss: 0.5289 - val_loss: 0.5269\n",
      "Epoch 36/100\n",
      "3750/3750 [==============================] - 35s 9ms/step - loss: 0.5288 - val_loss: 0.5270\n",
      "Epoch 37/100\n",
      "3750/3750 [==============================] - 35s 9ms/step - loss: 0.5291 - val_loss: 0.5248\n",
      "Epoch 38/100\n",
      "3750/3750 [==============================] - 35s 9ms/step - loss: 0.5288 - val_loss: 0.5244\n",
      "Epoch 39/100\n",
      "3750/3750 [==============================] - 34s 9ms/step - loss: 0.5285 - val_loss: 0.5266\n",
      "Epoch 40/100\n",
      "3750/3750 [==============================] - 34s 9ms/step - loss: 0.5284 - val_loss: 0.5211\n",
      "Epoch 41/100\n",
      "3750/3750 [==============================] - 35s 9ms/step - loss: 0.5281 - val_loss: 0.5314\n",
      "Epoch 42/100\n",
      "3750/3750 [==============================] - 36s 10ms/step - loss: 0.5285 - val_loss: 0.5242\n",
      "Epoch 43/100\n",
      "3750/3750 [==============================] - 38s 10ms/step - loss: 0.5281 - val_loss: 0.5217\n",
      "Epoch 44/100\n",
      "3750/3750 [==============================] - 36s 9ms/step - loss: 0.5281 - val_loss: 0.5208\n",
      "Epoch 45/100\n",
      "3750/3750 [==============================] - 35s 9ms/step - loss: 0.5279 - val_loss: 0.5205\n",
      "Epoch 46/100\n",
      "3750/3750 [==============================] - 37s 10ms/step - loss: 0.5275 - val_loss: 0.5357\n",
      "Epoch 47/100\n",
      "3750/3750 [==============================] - 35s 9ms/step - loss: 0.5272 - val_loss: 0.5266\n",
      "Epoch 48/100\n",
      "3750/3750 [==============================] - 36s 10ms/step - loss: 0.5276 - val_loss: 0.5258\n",
      "Epoch 49/100\n",
      "3750/3750 [==============================] - 36s 10ms/step - loss: 0.5275 - val_loss: 0.5202\n",
      "Epoch 50/100\n",
      "3750/3750 [==============================] - 35s 9ms/step - loss: 0.5270 - val_loss: 0.5232\n",
      "Epoch 51/100\n",
      "3750/3750 [==============================] - 38s 10ms/step - loss: 0.5271 - val_loss: 0.5207\n",
      "Epoch 52/100\n",
      "3750/3750 [==============================] - 38s 10ms/step - loss: 0.5271 - val_loss: 0.5230\n",
      "Epoch 53/100\n",
      "3750/3750 [==============================] - 35s 9ms/step - loss: 0.5269 - val_loss: 0.5206\n",
      "Epoch 54/100\n",
      "3750/3750 [==============================] - 35s 9ms/step - loss: 0.5269 - val_loss: 0.5210\n",
      "Epoch 55/100\n",
      "3750/3750 [==============================] - 35s 9ms/step - loss: 0.5265 - val_loss: 0.5199\n",
      "Epoch 56/100\n",
      "3750/3750 [==============================] - 35s 9ms/step - loss: 0.5264 - val_loss: 0.5214\n",
      "Epoch 57/100\n",
      "3750/3750 [==============================] - 35s 9ms/step - loss: 0.5265 - val_loss: 0.5197\n",
      "Epoch 58/100\n",
      "3750/3750 [==============================] - 34s 9ms/step - loss: 0.5263 - val_loss: 0.5206\n",
      "Epoch 59/100\n",
      "3750/3750 [==============================] - 35s 9ms/step - loss: 0.5264 - val_loss: 0.5243\n",
      "Epoch 60/100\n",
      "3750/3750 [==============================] - 35s 9ms/step - loss: 0.5260 - val_loss: 0.5232\n",
      "Epoch 61/100\n",
      "3750/3750 [==============================] - 38s 10ms/step - loss: 0.5262 - val_loss: 0.5236\n",
      "Epoch 62/100\n",
      "3750/3750 [==============================] - 35s 9ms/step - loss: 0.5258 - val_loss: 0.5208\n",
      "Epoch 63/100\n",
      "3750/3750 [==============================] - 34s 9ms/step - loss: 0.5258 - val_loss: 0.5228\n",
      "Epoch 64/100\n",
      "3750/3750 [==============================] - 35s 9ms/step - loss: 0.5259 - val_loss: 0.5197\n",
      "Epoch 65/100\n",
      "3750/3750 [==============================] - 36s 10ms/step - loss: 0.5258 - val_loss: 0.5197\n",
      "Epoch 66/100\n",
      "3750/3750 [==============================] - 36s 10ms/step - loss: 0.5258 - val_loss: 0.5223\n",
      "Epoch 67/100\n",
      "3750/3750 [==============================] - 35s 9ms/step - loss: 0.5257 - val_loss: 0.5201\n",
      "Epoch 68/100\n",
      "3750/3750 [==============================] - 35s 9ms/step - loss: 0.5253 - val_loss: 0.5214\n",
      "Epoch 69/100\n",
      "3750/3750 [==============================] - 36s 10ms/step - loss: 0.5255 - val_loss: 0.5195\n",
      "Epoch 70/100\n",
      "3750/3750 [==============================] - 37s 10ms/step - loss: 0.5252 - val_loss: 0.5210\n",
      "Epoch 71/100\n",
      "3750/3750 [==============================] - 35s 9ms/step - loss: 0.5252 - val_loss: 0.5198\n",
      "Epoch 72/100\n",
      "3750/3750 [==============================] - 35s 9ms/step - loss: 0.5252 - val_loss: 0.5302\n",
      "Epoch 73/100\n",
      "3750/3750 [==============================] - 37s 10ms/step - loss: 0.5248 - val_loss: 0.5208\n",
      "Epoch 74/100\n",
      "3750/3750 [==============================] - 37s 10ms/step - loss: 0.5249 - val_loss: 0.5190\n",
      "Epoch 75/100\n",
      "3750/3750 [==============================] - 37s 10ms/step - loss: 0.5253 - val_loss: 0.5207\n",
      "Epoch 76/100\n",
      "3750/3750 [==============================] - 36s 10ms/step - loss: 0.5248 - val_loss: 0.5200\n",
      "Epoch 77/100\n",
      "3750/3750 [==============================] - 37s 10ms/step - loss: 0.5249 - val_loss: 0.5193\n",
      "Epoch 78/100\n",
      "3750/3750 [==============================] - 35s 9ms/step - loss: 0.5247 - val_loss: 0.5214\n",
      "Epoch 79/100\n",
      "3750/3750 [==============================] - 36s 10ms/step - loss: 0.5245 - val_loss: 0.5224\n",
      "Epoch 80/100\n",
      "3750/3750 [==============================] - 37s 10ms/step - loss: 0.5244 - val_loss: 0.5261\n",
      "Epoch 81/100\n",
      "3750/3750 [==============================] - 37s 10ms/step - loss: 0.5248 - val_loss: 0.5216\n",
      "Epoch 82/100\n",
      "3750/3750 [==============================] - 35s 9ms/step - loss: 0.5245 - val_loss: 0.5223\n",
      "Epoch 83/100\n",
      "3750/3750 [==============================] - 37s 10ms/step - loss: 0.5244 - val_loss: 0.5204\n",
      "Epoch 84/100\n",
      "3750/3750 [==============================] - 37s 10ms/step - loss: 0.5244 - val_loss: 0.5187\n",
      "Epoch 85/100\n",
      "3750/3750 [==============================] - 35s 9ms/step - loss: 0.5247 - val_loss: 0.5186\n",
      "Epoch 86/100\n",
      "3750/3750 [==============================] - 35s 9ms/step - loss: 0.5244 - val_loss: 0.5216\n",
      "Epoch 87/100\n",
      "3750/3750 [==============================] - 37s 10ms/step - loss: 0.5243 - val_loss: 0.5184\n",
      "Epoch 88/100\n",
      "3750/3750 [==============================] - 36s 10ms/step - loss: 0.5242 - val_loss: 0.5202\n",
      "Epoch 89/100\n",
      "3750/3750 [==============================] - 35s 9ms/step - loss: 0.5241 - val_loss: 0.5194\n",
      "Epoch 90/100\n",
      "3750/3750 [==============================] - 34s 9ms/step - loss: 0.5241 - val_loss: 0.5227\n",
      "Epoch 91/100\n",
      "3750/3750 [==============================] - 34s 9ms/step - loss: 0.5239 - val_loss: 0.5189\n",
      "Epoch 92/100\n",
      "3750/3750 [==============================] - 34s 9ms/step - loss: 0.5238 - val_loss: 0.5264\n",
      "Epoch 93/100\n",
      "3750/3750 [==============================] - 37s 10ms/step - loss: 0.5238 - val_loss: 0.5189\n",
      "Epoch 94/100\n",
      "3750/3750 [==============================] - 34s 9ms/step - loss: 0.5237 - val_loss: 0.5199\n",
      "Epoch 95/100\n",
      "3750/3750 [==============================] - 34s 9ms/step - loss: 0.5238 - val_loss: 0.5185\n",
      "Epoch 96/100\n",
      "3750/3750 [==============================] - 34s 9ms/step - loss: 0.5238 - val_loss: 0.5186\n",
      "Epoch 97/100\n",
      "3750/3750 [==============================] - 39s 10ms/step - loss: 0.5234 - val_loss: 0.5179\n",
      "Epoch 98/100\n",
      "3750/3750 [==============================] - 34s 9ms/step - loss: 0.5235 - val_loss: 0.5195\n",
      "Epoch 99/100\n",
      "3750/3750 [==============================] - 34s 9ms/step - loss: 0.5236 - val_loss: 0.5256\n",
      "Epoch 100/100\n",
      "3750/3750 [==============================] - 37s 10ms/step - loss: 0.5234 - val_loss: 0.5215\n"
     ]
    }
   ],
   "source": [
    "epochs = 100\n",
    "history = model.fit(x_train,y_train,validation_data=(x_test,y_test),epochs=epochs, batch_size=64, verbose=1)"
   ]
  },
  {
   "cell_type": "code",
   "execution_count": 382,
   "metadata": {
    "execution": {
     "iopub.execute_input": "2023-04-16T03:04:37.447131Z",
     "iopub.status.busy": "2023-04-16T03:04:37.446761Z",
     "iopub.status.idle": "2023-04-16T03:04:37.495346Z",
     "shell.execute_reply": "2023-04-16T03:04:37.493646Z",
     "shell.execute_reply.started": "2023-04-16T03:04:37.447095Z"
    }
   },
   "outputs": [
    {
     "name": "stdout",
     "output_type": "stream",
     "text": [
      "Model: \"sequential_9\"\n",
      "_________________________________________________________________\n",
      " Layer (type)                Output Shape              Param #   \n",
      "=================================================================\n",
      " dense_61 (Dense)            (None, 16)                144       \n",
      "                                                                 \n",
      " dense_62 (Dense)            (None, 64)                1088      \n",
      "                                                                 \n",
      " dense_63 (Dense)            (None, 128)               8320      \n",
      "                                                                 \n",
      " dense_64 (Dense)            (None, 1024)              132096    \n",
      "                                                                 \n",
      " dense_65 (Dense)            (None, 256)               262400    \n",
      "                                                                 \n",
      " dense_66 (Dense)            (None, 64)                16448     \n",
      "                                                                 \n",
      " dense_67 (Dense)            (None, 16)                1040      \n",
      "                                                                 \n",
      " dense_68 (Dense)            (None, 1)                 17        \n",
      "                                                                 \n",
      "=================================================================\n",
      "Total params: 421,553\n",
      "Trainable params: 421,553\n",
      "Non-trainable params: 0\n",
      "_________________________________________________________________\n"
     ]
    }
   ],
   "source": [
    "model.summary()"
   ]
  },
  {
   "cell_type": "code",
   "execution_count": 383,
   "metadata": {
    "execution": {
     "iopub.execute_input": "2023-04-16T03:04:37.497429Z",
     "iopub.status.busy": "2023-04-16T03:04:37.497020Z",
     "iopub.status.idle": "2023-04-16T03:04:44.629114Z",
     "shell.execute_reply": "2023-04-16T03:04:44.627842Z",
     "shell.execute_reply.started": "2023-04-16T03:04:37.497387Z"
    }
   },
   "outputs": [
    {
     "name": "stdout",
     "output_type": "stream",
     "text": [
      "1875/1875 [==============================] - 7s 4ms/step - loss: 0.5215\n"
     ]
    },
    {
     "data": {
      "text/plain": [
       "0.5214605331420898"
      ]
     },
     "execution_count": 383,
     "metadata": {},
     "output_type": "execute_result"
    }
   ],
   "source": [
    "model.evaluate(x_test,y_test)"
   ]
  },
  {
   "cell_type": "code",
   "execution_count": 384,
   "metadata": {
    "execution": {
     "iopub.execute_input": "2023-04-16T03:04:44.630766Z",
     "iopub.status.busy": "2023-04-16T03:04:44.630365Z",
     "iopub.status.idle": "2023-04-16T03:04:51.754094Z",
     "shell.execute_reply": "2023-04-16T03:04:51.751792Z",
     "shell.execute_reply.started": "2023-04-16T03:04:44.630730Z"
    }
   },
   "outputs": [
    {
     "name": "stdout",
     "output_type": "stream",
     "text": [
      "1875/1875 [==============================] - 6s 3ms/step\n"
     ]
    }
   ],
   "source": [
    "tahmin = model.predict(x_test)"
   ]
  },
  {
   "cell_type": "code",
   "execution_count": 385,
   "metadata": {
    "execution": {
     "iopub.execute_input": "2023-04-16T03:04:51.756391Z",
     "iopub.status.busy": "2023-04-16T03:04:51.755966Z",
     "iopub.status.idle": "2023-04-16T03:04:51.772560Z",
     "shell.execute_reply": "2023-04-16T03:04:51.770501Z",
     "shell.execute_reply.started": "2023-04-16T03:04:51.756353Z"
    }
   },
   "outputs": [
    {
     "data": {
      "text/plain": [
       "-32.31585349389622"
      ]
     },
     "execution_count": 385,
     "metadata": {},
     "output_type": "execute_result"
    }
   ],
   "source": [
    "r2_score(tahmin,y_test)"
   ]
  },
  {
   "cell_type": "code",
   "execution_count": 386,
   "metadata": {
    "execution": {
     "iopub.execute_input": "2023-04-16T03:04:51.776307Z",
     "iopub.status.busy": "2023-04-16T03:04:51.775194Z",
     "iopub.status.idle": "2023-04-16T03:04:51.787160Z",
     "shell.execute_reply": "2023-04-16T03:04:51.785641Z",
     "shell.execute_reply.started": "2023-04-16T03:04:51.776256Z"
    }
   },
   "outputs": [
    {
     "data": {
      "text/plain": [
       "0.7221222440054775"
      ]
     },
     "execution_count": 386,
     "metadata": {},
     "output_type": "execute_result"
    }
   ],
   "source": [
    "(mean_squared_error(y_test,tahmin))**.5"
   ]
  },
  {
   "cell_type": "code",
   "execution_count": 387,
   "metadata": {
    "execution": {
     "iopub.execute_input": "2023-04-16T03:04:51.789996Z",
     "iopub.status.busy": "2023-04-16T03:04:51.789007Z",
     "iopub.status.idle": "2023-04-16T03:04:52.142761Z",
     "shell.execute_reply": "2023-04-16T03:04:52.140756Z",
     "shell.execute_reply.started": "2023-04-16T03:04:51.789939Z"
    }
   },
   "outputs": [
    {
     "data": {
      "text/plain": [
       "<AxesSubplot:>"
      ]
     },
     "execution_count": 387,
     "metadata": {},
     "output_type": "execute_result"
    },
    {
     "data": {
      "image/png": "[encoded data removed]",
      "text/plain": [
       "<Figure size 1200x800 with 1 Axes>"
      ]
     },
     "metadata": {},
     "output_type": "display_data"
    }
   ],
   "source": [
    "loss_df = pd.DataFrame(history.history)\n",
    "loss_df.plot(figsize=(12,8))"
   ]
  },
  {
   "cell_type": "code",
   "execution_count": 388,
   "metadata": {
    "execution": {
     "iopub.execute_input": "2023-04-16T03:04:52.144682Z",
     "iopub.status.busy": "2023-04-16T03:04:52.144272Z",
     "iopub.status.idle": "2023-04-16T03:05:15.462229Z",
     "shell.execute_reply": "2023-04-16T03:05:15.460788Z",
     "shell.execute_reply.started": "2023-04-16T03:04:52.144643Z"
    }
   },
   "outputs": [
    {
     "name": "stdout",
     "output_type": "stream",
     "text": [
      "6250/6250 [==============================] - 21s 3ms/step\n"
     ]
    }
   ],
   "source": [
    "tahmin = model.predict(data.drop([\"id\",\"target\"], axis=1))"
   ]
  },
  {
   "cell_type": "code",
   "execution_count": 389,
   "metadata": {
    "execution": {
     "iopub.execute_input": "2023-04-16T03:05:15.465901Z",
     "iopub.status.busy": "2023-04-16T03:05:15.465324Z",
     "iopub.status.idle": "2023-04-16T03:05:15.492338Z",
     "shell.execute_reply": "2023-04-16T03:05:15.490555Z",
     "shell.execute_reply.started": "2023-04-16T03:05:15.465846Z"
    }
   },
   "outputs": [
    {
     "name": "stderr",
     "output_type": "stream",
     "text": [
      "/opt/conda/lib/python3.7/site-packages/ipykernel_launcher.py:1: SettingWithCopyWarning: \n",
      "A value is trying to be set on a copy of a slice from a DataFrame.\n",
      "Try using .loc[row_indexer,col_indexer] = value instead\n",
      "\n",
      "See the caveats in the documentation: https://pandas.pydata.org/pandas-docs/stable/user_guide/indexing.html#returning-a-view-versus-a-copy\n",
      "  \"\"\"Entry point for launching an IPython kernel.\n"
     ]
    },
    {
     "data": {
      "text/html": [
       "<div>\n",
       "<style scoped>\n",
       "    .dataframe tbody tr th:only-of-type {\n",
       "        vertical-align: middle;\n",
       "    }\n",
       "\n",
       "    .dataframe tbody tr th {\n",
       "        vertical-align: top;\n",
       "    }\n",
       "\n",
       "    .dataframe thead th {\n",
       "        text-align: right;\n",
       "    }\n",
       "</style>\n",
       "<table border=\"1\" class=\"dataframe\">\n",
       "  <thead>\n",
       "    <tr style=\"text-align: right;\">\n",
       "      <th></th>\n",
       "      <th>cont7</th>\n",
       "      <th>cont2</th>\n",
       "      <th>cont3</th>\n",
       "      <th>cont11</th>\n",
       "      <th>cont12</th>\n",
       "      <th>cont6</th>\n",
       "      <th>cont8</th>\n",
       "      <th>cont4</th>\n",
       "      <th>id</th>\n",
       "      <th>target</th>\n",
       "    </tr>\n",
       "  </thead>\n",
       "  <tbody>\n",
       "    <tr>\n",
       "      <th>0</th>\n",
       "      <td>0.620704</td>\n",
       "      <td>0.738780</td>\n",
       "      <td>0.600939</td>\n",
       "      <td>0.550540</td>\n",
       "      <td>0.699134</td>\n",
       "      <td>0.458006</td>\n",
       "      <td>0.422249</td>\n",
       "      <td>0.293377</td>\n",
       "      <td>0</td>\n",
       "      <td>7.461858</td>\n",
       "    </tr>\n",
       "    <tr>\n",
       "      <th>1</th>\n",
       "      <td>0.390351</td>\n",
       "      <td>0.189756</td>\n",
       "      <td>0.215531</td>\n",
       "      <td>0.446475</td>\n",
       "      <td>0.449037</td>\n",
       "      <td>0.528958</td>\n",
       "      <td>0.521112</td>\n",
       "      <td>0.869915</td>\n",
       "      <td>2</td>\n",
       "      <td>7.427536</td>\n",
       "    </tr>\n",
       "    <tr>\n",
       "      <th>2</th>\n",
       "      <td>0.386789</td>\n",
       "      <td>0.355353</td>\n",
       "      <td>0.623972</td>\n",
       "      <td>0.211913</td>\n",
       "      <td>0.222651</td>\n",
       "      <td>0.320826</td>\n",
       "      <td>0.776422</td>\n",
       "      <td>0.437812</td>\n",
       "      <td>6</td>\n",
       "      <td>7.465376</td>\n",
       "    </tr>\n",
       "    <tr>\n",
       "      <th>3</th>\n",
       "      <td>0.506677</td>\n",
       "      <td>0.181049</td>\n",
       "      <td>0.551368</td>\n",
       "      <td>0.445276</td>\n",
       "      <td>0.518485</td>\n",
       "      <td>0.482076</td>\n",
       "      <td>0.362793</td>\n",
       "      <td>0.206386</td>\n",
       "      <td>7</td>\n",
       "      <td>7.630038</td>\n",
       "    </tr>\n",
       "    <tr>\n",
       "      <th>4</th>\n",
       "      <td>0.748639</td>\n",
       "      <td>0.682607</td>\n",
       "      <td>0.676481</td>\n",
       "      <td>0.817721</td>\n",
       "      <td>0.805895</td>\n",
       "      <td>0.581721</td>\n",
       "      <td>0.350158</td>\n",
       "      <td>0.219465</td>\n",
       "      <td>10</td>\n",
       "      <td>7.566848</td>\n",
       "    </tr>\n",
       "  </tbody>\n",
       "</table>\n",
       "</div>"
      ],
      "text/plain": [
       "      cont7     cont2     cont3    cont11    cont12     cont6     cont8  \\\n",
       "0  0.620704  0.738780  0.600939  0.550540  0.699134  0.458006  0.422249   \n",
       "1  0.390351  0.189756  0.215531  0.446475  0.449037  0.528958  0.521112   \n",
       "2  0.386789  0.355353  0.623972  0.211913  0.222651  0.320826  0.776422   \n",
       "3  0.506677  0.181049  0.551368  0.445276  0.518485  0.482076  0.362793   \n",
       "4  0.748639  0.682607  0.676481  0.817721  0.805895  0.581721  0.350158   \n",
       "\n",
       "      cont4  id    target  \n",
       "0  0.293377   0  7.461858  \n",
       "1  0.869915   2  7.427536  \n",
       "2  0.437812   6  7.465376  \n",
       "3  0.206386   7  7.630038  \n",
       "4  0.219465  10  7.566848  "
      ]
     },
     "execution_count": 389,
     "metadata": {},
     "output_type": "execute_result"
    }
   ],
   "source": [
    "data[\"target\"] = tahmin\n",
    "data.head()"
   ]
  },
  {
   "cell_type": "code",
   "execution_count": 390,
   "metadata": {
    "execution": {
     "iopub.execute_input": "2023-04-16T03:05:15.494651Z",
     "iopub.status.busy": "2023-04-16T03:05:15.494033Z",
     "iopub.status.idle": "2023-04-16T03:05:15.510452Z",
     "shell.execute_reply": "2023-04-16T03:05:15.508789Z",
     "shell.execute_reply.started": "2023-04-16T03:05:15.494594Z"
    }
   },
   "outputs": [
    {
     "data": {
      "text/html": [
       "<div>\n",
       "<style scoped>\n",
       "    .dataframe tbody tr th:only-of-type {\n",
       "        vertical-align: middle;\n",
       "    }\n",
       "\n",
       "    .dataframe tbody tr th {\n",
       "        vertical-align: top;\n",
       "    }\n",
       "\n",
       "    .dataframe thead th {\n",
       "        text-align: right;\n",
       "    }\n",
       "</style>\n",
       "<table border=\"1\" class=\"dataframe\">\n",
       "  <thead>\n",
       "    <tr style=\"text-align: right;\">\n",
       "      <th></th>\n",
       "      <th>id</th>\n",
       "      <th>target</th>\n",
       "    </tr>\n",
       "  </thead>\n",
       "  <tbody>\n",
       "    <tr>\n",
       "      <th>0</th>\n",
       "      <td>0</td>\n",
       "      <td>7.461858</td>\n",
       "    </tr>\n",
       "    <tr>\n",
       "      <th>1</th>\n",
       "      <td>2</td>\n",
       "      <td>7.427536</td>\n",
       "    </tr>\n",
       "    <tr>\n",
       "      <th>2</th>\n",
       "      <td>6</td>\n",
       "      <td>7.465376</td>\n",
       "    </tr>\n",
       "    <tr>\n",
       "      <th>3</th>\n",
       "      <td>7</td>\n",
       "      <td>7.630038</td>\n",
       "    </tr>\n",
       "    <tr>\n",
       "      <th>4</th>\n",
       "      <td>10</td>\n",
       "      <td>7.566848</td>\n",
       "    </tr>\n",
       "  </tbody>\n",
       "</table>\n",
       "</div>"
      ],
      "text/plain": [
       "   id    target\n",
       "0   0  7.461858\n",
       "1   2  7.427536\n",
       "2   6  7.465376\n",
       "3   7  7.630038\n",
       "4  10  7.566848"
      ]
     },
     "execution_count": 390,
     "metadata": {},
     "output_type": "execute_result"
    }
   ],
   "source": [
    "my_pred = data[[\"id\",\"target\"]]\n",
    "my_pred.head()"
   ]
  },
  {
   "cell_type": "code",
   "execution_count": 391,
   "metadata": {
    "execution": {
     "iopub.execute_input": "2023-04-16T03:05:15.513256Z",
     "iopub.status.busy": "2023-04-16T03:05:15.512218Z",
     "iopub.status.idle": "2023-04-16T03:05:15.887051Z",
     "shell.execute_reply": "2023-04-16T03:05:15.884847Z",
     "shell.execute_reply.started": "2023-04-16T03:05:15.513196Z"
    }
   },
   "outputs": [],
   "source": [
    "my_pred.to_csv(\"pred3.csv\", index = False)"
   ]
  },
  {
   "cell_type": "code",
   "execution_count": null,
   "metadata": {},
   "outputs": [],
   "source": []
  }
 ],
 "metadata": {
  "kernelspec": {
   "display_name": "Python 3 (ipykernel)",
   "language": "python",
   "name": "python3"
  },
  "language_info": {
   "codemirror_mode": {
    "name": "ipython",
    "version": 3
   },
   "file_extension": ".py",
   "mimetype": "text/x-python",
   "name": "python",
   "nbconvert_exporter": "python",
   "pygments_lexer": "ipython3",
   "version": "3.9.12"
  }
 },
 "nbformat": 4,
 "nbformat_minor": 4
}
